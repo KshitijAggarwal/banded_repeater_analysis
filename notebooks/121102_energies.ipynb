{
 "cells": [
  {
   "cell_type": "code",
   "execution_count": 1,
   "metadata": {},
   "outputs": [],
   "source": [
    "import numpy as np\n",
    "import pylab as plt\n",
    "import pandas as pd\n",
    "import sys\n",
    "sys.path.append(\"../\")\n",
    "from simulate import gen_bursts, run_search, analyse_and_plot\n",
    "from utils import *\n",
    "from plotting import set_size\n",
    "\n",
    "%matplotlib inline"
   ]
  },
  {
   "cell_type": "markdown",
   "metadata": {},
   "source": [
    "Simulated bursts"
   ]
  },
  {
   "cell_type": "code",
   "execution_count": 2,
   "metadata": {},
   "outputs": [],
   "source": [
    "np.random.seed(1996)\n",
    "\n",
    "bursts, name = gen_bursts(\n",
    "    mu_params=[1650, 250],\n",
    "    sigma_params=[300, 250],\n",
    "    mu_dist=\"norm\",\n",
    "    sigma_dist=\"norm\",\n",
    "    N=50000,\n",
    "    alpha=-1.5,\n",
    "    E_min_log=37,\n",
    "    E_max_log=42,\n",
    "    save=False,\n",
    ")\n",
    "\n",
    "detected, detected_in_band_df, Es = run_search(\n",
    "    bursts,\n",
    "    fstart=1050,\n",
    "    fend=1450,\n",
    "    fluence_threshold=0.2,\n",
    "    in_band_sig=3,\n",
    "    ret=\"all\",\n",
    "    distance=949,\n",
    ")\n",
    "\n",
    "original_E = Es[\"original_E\"]\n",
    "detected_snr_E = Es[\"detected_snr_E\"]\n",
    "detected_fit_E = Es[\"detected_fit_E\"]\n",
    "detected_in_band_E = Es[\"detected_in_band_E\"]"
   ]
  },
  {
   "cell_type": "markdown",
   "metadata": {},
   "source": [
    "FAST FRB121102 bursts"
   ]
  },
  {
   "cell_type": "code",
   "execution_count": 3,
   "metadata": {},
   "outputs": [],
   "source": [
    "fast_121102 = pd.read_csv('../fastbursts.csv')\n",
    "fast_energy = fluence_to_energy(fast_121102['fluence']/1000, fast_121102['bw']*1000, \n",
    "                                    distance=949)"
   ]
  },
  {
   "cell_type": "markdown",
   "metadata": {},
   "source": [
    "Arecibo FRB121102 bursts"
   ]
  },
  {
   "cell_type": "code",
   "execution_count": 4,
   "metadata": {},
   "outputs": [],
   "source": [
    "arecibo_121102 = pd.read_csv('../all_bursts_bary.csv')\n",
    "\n",
    "arecibo_121102 = arecibo_121102[arecibo_121102['use_fluence']]\n",
    "arecibo_121102 = arecibo_121102[arecibo_121102['fit_method'] == 'mcmc']\n",
    "\n",
    "# Selecting in-band bursts\n",
    "m1 = (arecibo_121102['$\\mu_f$ (MHz)'] - 1.0 * arecibo_121102[\"$\\sigma_f$ (MHz)\"] > 974)\n",
    "m2 = (arecibo_121102['$\\mu_f$ (MHz)'] + 1.0 * arecibo_121102[\"$\\sigma_f$ (MHz)\"] < 1774)\n",
    "mask = m1 & m2\n",
    "arecibo_121102_in = arecibo_121102[mask]\n",
    "arecibo_121102_all = arecibo_121102\n",
    "\n",
    "arecibo_energy_in = fluence_to_energy(arecibo_121102_in['$S$ (Jy ms)']/1000, \n",
    "                                      arecibo_121102_in['$\\sigma_f$ (MHz)']*2.355,\n",
    "                                      distance=949)\n",
    "arecibo_energy_all = fluence_to_energy(arecibo_121102_all['$S$ (Jy ms)']/1000, \n",
    "                                       arecibo_121102_all['$\\sigma_f$ (MHz)']*2.355,\n",
    "                                       distance=949)"
   ]
  },
  {
   "cell_type": "markdown",
   "metadata": {},
   "source": [
    "Plot energy distributions"
   ]
  },
  {
   "cell_type": "code",
   "execution_count": 6,
   "metadata": {},
   "outputs": [
    {
     "name": "stderr",
     "output_type": "stream",
     "text": [
      "/home/kshitij/anaconda3/envs/grbfrb/lib/python3.6/site-packages/ipykernel_launcher.py:16: RuntimeWarning: divide by zero encountered in log10\n",
      "  app.launch_new_instance()\n",
      "/home/kshitij/anaconda3/envs/grbfrb/lib/python3.6/site-packages/ipykernel_launcher.py:22: RuntimeWarning: divide by zero encountered in log10\n",
      "/home/kshitij/anaconda3/envs/grbfrb/lib/python3.6/site-packages/ipykernel_launcher.py:27: RuntimeWarning: divide by zero encountered in log10\n"
     ]
    },
    {
     "name": "stdout",
     "output_type": "stream",
     "text": [
      "[Text(34.0, 0, '$\\\\mathdefault{34}$'), Text(35.0, 0, '$\\\\mathdefault{35}$'), Text(36.0, 0, '$\\\\mathdefault{36}$'), Text(37.0, 0, '$\\\\mathdefault{37}$'), Text(38.0, 0, '$\\\\mathdefault{38}$'), Text(39.0, 0, '$\\\\mathdefault{39}$'), Text(40.0, 0, '$\\\\mathdefault{40}$')]\n",
      "['$\\\\mathdefault{10^{34}}$', '$\\\\mathdefault{10^{35}}$', '$\\\\mathdefault{10^{36}}$', '$\\\\mathdefault{10^{37}}$', '$\\\\mathdefault{10^{38}}$', '$\\\\mathdefault{10^{39}}$', '$\\\\mathdefault{10^{40}}$']\n",
      "[Text(0, -1.0, '$\\\\mathdefault{−1}$'), Text(0, 0.0, '$\\\\mathdefault{0}$'), Text(0, 1.0, '$\\\\mathdefault{1}$'), Text(0, 2.0, '$\\\\mathdefault{2}$'), Text(0, 3.0, '$\\\\mathdefault{3}$'), Text(0, 4.0, '$\\\\mathdefault{4}$')]\n",
      "['$\\\\mathdefault{10^{−1}}$', '$\\\\mathdefault{10^{{0}}$', '$\\\\mathdefault{10^{{1}}$', '$\\\\mathdefault{10^{{2}}$', '$\\\\mathdefault{10^{{3}}$', '$\\\\mathdefault{10^{{4}}$']\n"
     ]
    },
    {
     "name": "stderr",
     "output_type": "stream",
     "text": [
      "/home/kshitij/anaconda3/envs/grbfrb/lib/python3.6/site-packages/ipykernel_launcher.py:48: UserWarning: FixedFormatter should only be used together with FixedLocator\n",
      "/home/kshitij/anaconda3/envs/grbfrb/lib/python3.6/site-packages/ipykernel_launcher.py:55: UserWarning: FixedFormatter should only be used together with FixedLocator\n"
     ]
    },
    {
     "data": {
      "image/png": "[encoded data removed]",
      "text/plain": [
       "<Figure size 511.2x157.97 with 2 Axes>"
      ]
     },
     "metadata": {
      "needs_background": "light"
     },
     "output_type": "display_data"
    }
   ],
   "source": [
    "bins = np.linspace(35, 40, 15)\n",
    "with plt.style.context([\"science\", \"grid\"]):\n",
    "    fig, ax = plt.subplots(1, 2, sharex=True, figsize=set_size(width=\"full\", \n",
    "                                                               subplots=(1, 2)))\n",
    "    ax[0].hist(np.log10(fast_energy), bins=bins, color='b',# density=True,\n",
    "               alpha=0.5, label='FAST')\n",
    "    ax[0].hist(np.log10(arecibo_energy_in), bins=bins, color='g',# density=True, \n",
    "               alpha=0.5, label='Arecibo')\n",
    "    ax[0].hist(np.log10(detected_snr_E), bins=bins, color='r', \n",
    "               alpha=0.5, label='Simulated')\n",
    "    ax[0].axvline(x=np.log10(2.5) + 37, ymin=0, ymax=1000, \n",
    "                  color='k', linestyle='--')\n",
    "\n",
    "    Es_bw = np.sort(detected_snr_E)\n",
    "    Ns_bw = np.linspace(len(Es_bw) - 1, 0, len(Es_bw))\n",
    "    ax[1].scatter(np.log10(Es_bw), np.log10(Ns_bw), c='r', \n",
    "                  marker='x', alpha=0.5, label='Simulated')\n",
    "\n",
    "\n",
    "    Es_bw = np.sort(fast_energy)\n",
    "    Ns_bw = np.linspace(len(Es_bw) - 1, 0, len(Es_bw))\n",
    "    ax[1].scatter(np.log10(Es_bw), np.log10(Ns_bw), c='b', \n",
    "                  marker='^', alpha=0.5, label='FAST')\n",
    "\n",
    "    Es_bw = np.sort(arecibo_energy_in)\n",
    "    Ns_bw = np.linspace(len(Es_bw) - 1, 0, len(Es_bw))\n",
    "    ax[1].scatter(np.log10(Es_bw), np.log10(Ns_bw), c='g', \n",
    "                  marker='o', alpha=0.5, label='Arecibo')\n",
    "    ax[1].legend()\n",
    "\n",
    "    ax[1].axvline(x=np.log10(2.5) + 37, ymin=0, ymax=1000, \n",
    "                  color='k', linestyle='--')\n",
    "\n",
    "\n",
    "    ax[0].set_yscale('log')\n",
    "    ax[0].set_xlabel(r'Energy (erg)')\n",
    "    ax[1].set_xlabel(r'Energy (erg)')\n",
    "    ax[0].set_ylabel(r'N')\n",
    "    ax[1].set_ylabel(r'N($>$E)')\n",
    "\n",
    "    ax[1].set_xlim([34.5, 40])\n",
    "    plt.tight_layout()\n",
    "    print(ax[0].get_xticklabels())\n",
    "    new_labels = []\n",
    "    for l in ax[0].get_xticklabels():\n",
    "        new_labels.append(\"$\\\\mathdefault{10^{\" + l._text[-4:-2] + \"}}$\")\n",
    "    print(new_labels)\n",
    "    ax[0].set_xticklabels(new_labels)\n",
    "\n",
    "    print(ax[1].get_yticklabels())\n",
    "    new_labels = []\n",
    "    for l in ax[1].get_yticklabels():\n",
    "        new_labels.append(\"$\\\\mathdefault{10^{\" + l._text[-4:-2] + \"}}$\")\n",
    "    print(new_labels)\n",
    "    ax[1].set_yticklabels(new_labels)\n",
    "\n",
    "    plt.savefig('121102_energies.pdf', bbox_inches='tight', dpi=300)"
   ]
  },
  {
   "cell_type": "code",
   "execution_count": null,
   "metadata": {},
   "outputs": [],
   "source": []
  }
 ],
 "metadata": {
  "kernelspec": {
   "display_name": "Python 3",
   "language": "python",
   "name": "python3"
  },
  "language_info": {
   "codemirror_mode": {
    "name": "ipython",
    "version": 3
   },
   "file_extension": ".py",
   "mimetype": "text/x-python",
   "name": "python",
   "nbconvert_exporter": "python",
   "pygments_lexer": "ipython3",
   "version": "3.6.8"
  }
 },
 "nbformat": 4,
 "nbformat_minor": 2
}
