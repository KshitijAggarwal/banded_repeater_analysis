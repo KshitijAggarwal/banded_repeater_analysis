{
 "cells": [
  {
   "cell_type": "code",
   "execution_count": 1,
   "metadata": {},
   "outputs": [
    {
     "data": {
      "application/javascript": [
       "\n",
       "            setTimeout(function() {\n",
       "                var nbb_cell_id = 1;\n",
       "                var nbb_unformatted_code = \"import numpy as np\\nimport pylab as plt\\nimport pandas as pd\\nimport glob\\nimport sys\\n\\nsys.path.append(\\\"../\\\")\\nfrom simulate import gen_bursts, run_search\\nfrom plotting import set_size\\n\\n%matplotlib inline\\n%load_ext nb_black\";\n",
       "                var nbb_formatted_code = \"import numpy as np\\nimport pylab as plt\\nimport pandas as pd\\nimport glob\\nimport sys\\n\\nsys.path.append(\\\"../\\\")\\nfrom simulate import gen_bursts, run_search\\nfrom plotting import set_size\\n\\n%matplotlib inline\\n%load_ext nb_black\";\n",
       "                var nbb_cells = Jupyter.notebook.get_cells();\n",
       "                for (var i = 0; i < nbb_cells.length; ++i) {\n",
       "                    if (nbb_cells[i].input_prompt_number == nbb_cell_id) {\n",
       "                        if (nbb_cells[i].get_text() == nbb_unformatted_code) {\n",
       "                             nbb_cells[i].set_text(nbb_formatted_code);\n",
       "                        }\n",
       "                        break;\n",
       "                    }\n",
       "                }\n",
       "            }, 500);\n",
       "            "
      ],
      "text/plain": [
       "<IPython.core.display.Javascript object>"
      ]
     },
     "metadata": {},
     "output_type": "display_data"
    }
   ],
   "source": [
    "import numpy as np\n",
    "import pylab as plt\n",
    "import pandas as pd\n",
    "import glob\n",
    "import sys\n",
    "\n",
    "sys.path.append(\"../\")\n",
    "from simulate import gen_bursts, run_search\n",
    "from plotting import set_size\n",
    "\n",
    "%matplotlib inline\n",
    "%load_ext nb_black"
   ]
  },
  {
   "cell_type": "code",
   "execution_count": 2,
   "metadata": {},
   "outputs": [
    {
     "data": {
      "application/javascript": [
       "\n",
       "            setTimeout(function() {\n",
       "                var nbb_cell_id = 2;\n",
       "                var nbb_unformatted_code = \"def gauss(x, S, mu, sigma):\\n    \\\"\\\"\\\"\\n    Gaussian function with area S\\n    Args:\\n        x: input array to evaluate the function\\n        S: Area of the gaussian\\n        mu: mean of the gaussian\\n        sigma: sigma of the gaussian\\n    Returns:\\n    \\\"\\\"\\\"\\n    vals = (S / (np.sqrt(2 * np.pi) * sigma)) * np.exp(\\n        -(1 / 2) * ((x - mu) / sigma) ** 2\\n    )\\n    vals[fs < int(mu - 6 * sigma)] = np.nan\\n    vals[fs > int(mu + 6 * sigma)] = np.nan\\n\\n    #     vals[vals < S*1e-4] = np.nan\\n    return vals\";\n",
       "                var nbb_formatted_code = \"def gauss(x, S, mu, sigma):\\n    \\\"\\\"\\\"\\n    Gaussian function with area S\\n    Args:\\n        x: input array to evaluate the function\\n        S: Area of the gaussian\\n        mu: mean of the gaussian\\n        sigma: sigma of the gaussian\\n    Returns:\\n    \\\"\\\"\\\"\\n    vals = (S / (np.sqrt(2 * np.pi) * sigma)) * np.exp(\\n        -(1 / 2) * ((x - mu) / sigma) ** 2\\n    )\\n    vals[fs < int(mu - 6 * sigma)] = np.nan\\n    vals[fs > int(mu + 6 * sigma)] = np.nan\\n\\n    #     vals[vals < S*1e-4] = np.nan\\n    return vals\";\n",
       "                var nbb_cells = Jupyter.notebook.get_cells();\n",
       "                for (var i = 0; i < nbb_cells.length; ++i) {\n",
       "                    if (nbb_cells[i].input_prompt_number == nbb_cell_id) {\n",
       "                        if (nbb_cells[i].get_text() == nbb_unformatted_code) {\n",
       "                             nbb_cells[i].set_text(nbb_formatted_code);\n",
       "                        }\n",
       "                        break;\n",
       "                    }\n",
       "                }\n",
       "            }, 500);\n",
       "            "
      ],
      "text/plain": [
       "<IPython.core.display.Javascript object>"
      ]
     },
     "metadata": {},
     "output_type": "display_data"
    }
   ],
   "source": [
    "def gauss(x, S, mu, sigma):\n",
    "    \"\"\"\n",
    "    Gaussian function with area S\n",
    "    Args:\n",
    "        x: input array to evaluate the function\n",
    "        S: Area of the gaussian\n",
    "        mu: mean of the gaussian\n",
    "        sigma: sigma of the gaussian\n",
    "    Returns:\n",
    "    \"\"\"\n",
    "    vals = (S / (np.sqrt(2 * np.pi) * sigma)) * np.exp(\n",
    "        -(1 / 2) * ((x - mu) / sigma) ** 2\n",
    "    )\n",
    "    vals[fs < int(mu - 6 * sigma)] = np.nan\n",
    "    vals[fs > int(mu + 6 * sigma)] = np.nan\n",
    "\n",
    "    #     vals[vals < S*1e-4] = np.nan\n",
    "    return vals"
   ]
  },
  {
   "cell_type": "markdown",
   "metadata": {},
   "source": [
    "Simulate bursts"
   ]
  },
  {
   "cell_type": "code",
   "execution_count": 3,
   "metadata": {},
   "outputs": [
    {
     "data": {
      "application/javascript": [
       "\n",
       "            setTimeout(function() {\n",
       "                var nbb_cell_id = 3;\n",
       "                var nbb_unformatted_code = \"np.random.seed(1996)\\nbursts, name = gen_bursts(\\n    mu_params=[800, 2000],\\n    sigma_params=[50, 100],\\n    mu_dist=\\\"uniform\\\",\\n    sigma_dist=\\\"uniform\\\",\\n    N=10000,\\n    alpha=-1.8,\\n    E_min_log=36.5,\\n    E_max_log=38.5,\\n    save=False,\\n)\";\n",
       "                var nbb_formatted_code = \"np.random.seed(1996)\\nbursts, name = gen_bursts(\\n    mu_params=[800, 2000],\\n    sigma_params=[50, 100],\\n    mu_dist=\\\"uniform\\\",\\n    sigma_dist=\\\"uniform\\\",\\n    N=10000,\\n    alpha=-1.8,\\n    E_min_log=36.5,\\n    E_max_log=38.5,\\n    save=False,\\n)\";\n",
       "                var nbb_cells = Jupyter.notebook.get_cells();\n",
       "                for (var i = 0; i < nbb_cells.length; ++i) {\n",
       "                    if (nbb_cells[i].input_prompt_number == nbb_cell_id) {\n",
       "                        if (nbb_cells[i].get_text() == nbb_unformatted_code) {\n",
       "                             nbb_cells[i].set_text(nbb_formatted_code);\n",
       "                        }\n",
       "                        break;\n",
       "                    }\n",
       "                }\n",
       "            }, 500);\n",
       "            "
      ],
      "text/plain": [
       "<IPython.core.display.Javascript object>"
      ]
     },
     "metadata": {},
     "output_type": "display_data"
    }
   ],
   "source": [
    "np.random.seed(1996)\n",
    "bursts, name = gen_bursts(\n",
    "    mu_params=[800, 2000],\n",
    "    sigma_params=[50, 100],\n",
    "    mu_dist=\"uniform\",\n",
    "    sigma_dist=\"uniform\",\n",
    "    N=10000,\n",
    "    alpha=-1.8,\n",
    "    E_min_log=36.5,\n",
    "    E_max_log=38.5,\n",
    "    save=False,\n",
    ")"
   ]
  },
  {
   "cell_type": "code",
   "execution_count": 4,
   "metadata": {},
   "outputs": [
    {
     "data": {
      "application/javascript": [
       "\n",
       "            setTimeout(function() {\n",
       "                var nbb_cell_id = 4;\n",
       "                var nbb_unformatted_code = \"fstart = 1000  # MHz\\nfend = 1800  # MHz\\nfluence_threshold = 0.0216  # Jy ms # Arecibo\";\n",
       "                var nbb_formatted_code = \"fstart = 1000  # MHz\\nfend = 1800  # MHz\\nfluence_threshold = 0.0216  # Jy ms # Arecibo\";\n",
       "                var nbb_cells = Jupyter.notebook.get_cells();\n",
       "                for (var i = 0; i < nbb_cells.length; ++i) {\n",
       "                    if (nbb_cells[i].input_prompt_number == nbb_cell_id) {\n",
       "                        if (nbb_cells[i].get_text() == nbb_unformatted_code) {\n",
       "                             nbb_cells[i].set_text(nbb_formatted_code);\n",
       "                        }\n",
       "                        break;\n",
       "                    }\n",
       "                }\n",
       "            }, 500);\n",
       "            "
      ],
      "text/plain": [
       "<IPython.core.display.Javascript object>"
      ]
     },
     "metadata": {},
     "output_type": "display_data"
    }
   ],
   "source": [
    "fstart = 1000  # MHz\n",
    "fend = 1800  # MHz\n",
    "fluence_threshold = 0.0216  # Jy ms # Arecibo"
   ]
  },
  {
   "cell_type": "markdown",
   "metadata": {},
   "source": [
    "Run search to obtain a sample of detected bursts and their properties"
   ]
  },
  {
   "cell_type": "code",
   "execution_count": 5,
   "metadata": {},
   "outputs": [
    {
     "data": {
      "application/javascript": [
       "\n",
       "            setTimeout(function() {\n",
       "                var nbb_cell_id = 5;\n",
       "                var nbb_unformatted_code = \"detected, detected_in_band_df, Es = run_search(\\n    bursts,\\n    fstart=fstart,\\n    fend=fend,\\n    fluence_threshold=fluence_threshold,\\n    in_band_sig=2,\\n    ret=\\\"all\\\",\\n    distance=972,\\n)\";\n",
       "                var nbb_formatted_code = \"detected, detected_in_band_df, Es = run_search(\\n    bursts,\\n    fstart=fstart,\\n    fend=fend,\\n    fluence_threshold=fluence_threshold,\\n    in_band_sig=2,\\n    ret=\\\"all\\\",\\n    distance=972,\\n)\";\n",
       "                var nbb_cells = Jupyter.notebook.get_cells();\n",
       "                for (var i = 0; i < nbb_cells.length; ++i) {\n",
       "                    if (nbb_cells[i].input_prompt_number == nbb_cell_id) {\n",
       "                        if (nbb_cells[i].get_text() == nbb_unformatted_code) {\n",
       "                             nbb_cells[i].set_text(nbb_formatted_code);\n",
       "                        }\n",
       "                        break;\n",
       "                    }\n",
       "                }\n",
       "            }, 500);\n",
       "            "
      ],
      "text/plain": [
       "<IPython.core.display.Javascript object>"
      ]
     },
     "metadata": {},
     "output_type": "display_data"
    }
   ],
   "source": [
    "detected, detected_in_band_df, Es = run_search(\n",
    "    bursts,\n",
    "    fstart=fstart,\n",
    "    fend=fend,\n",
    "    fluence_threshold=fluence_threshold,\n",
    "    in_band_sig=2,\n",
    "    ret=\"all\",\n",
    "    distance=972,\n",
    ")"
   ]
  },
  {
   "cell_type": "code",
   "execution_count": 6,
   "metadata": {},
   "outputs": [
    {
     "name": "stderr",
     "output_type": "stream",
     "text": [
      "/home/kshitij/anaconda3/envs/grbfrb/lib/python3.6/site-packages/ipykernel_launcher.py:2: SettingWithCopyWarning: \n",
      "A value is trying to be set on a copy of a slice from a DataFrame\n",
      "\n",
      "See the caveats in the documentation: https://pandas.pydata.org/pandas-docs/stable/user_guide/indexing.html#returning-a-view-versus-a-copy\n",
      "  \n",
      "/home/kshitij/anaconda3/envs/grbfrb/lib/python3.6/site-packages/pandas/core/indexing.py:670: SettingWithCopyWarning: \n",
      "A value is trying to be set on a copy of a slice from a DataFrame\n",
      "\n",
      "See the caveats in the documentation: https://pandas.pydata.org/pandas-docs/stable/user_guide/indexing.html#returning-a-view-versus-a-copy\n",
      "  iloc._setitem_with_indexer(indexer, value)\n"
     ]
    },
    {
     "data": {
      "application/javascript": [
       "\n",
       "            setTimeout(function() {\n",
       "                var nbb_cell_id = 6;\n",
       "                var nbb_unformatted_code = \"bursts[\\\"det\\\"] = False\\nbursts.det[detected.index] = True\";\n",
       "                var nbb_formatted_code = \"bursts[\\\"det\\\"] = False\\nbursts.det[detected.index] = True\";\n",
       "                var nbb_cells = Jupyter.notebook.get_cells();\n",
       "                for (var i = 0; i < nbb_cells.length; ++i) {\n",
       "                    if (nbb_cells[i].input_prompt_number == nbb_cell_id) {\n",
       "                        if (nbb_cells[i].get_text() == nbb_unformatted_code) {\n",
       "                             nbb_cells[i].set_text(nbb_formatted_code);\n",
       "                        }\n",
       "                        break;\n",
       "                    }\n",
       "                }\n",
       "            }, 500);\n",
       "            "
      ],
      "text/plain": [
       "<IPython.core.display.Javascript object>"
      ]
     },
     "metadata": {},
     "output_type": "display_data"
    }
   ],
   "source": [
    "bursts[\"det\"] = False\n",
    "bursts.det[detected.index] = True"
   ]
  },
  {
   "cell_type": "markdown",
   "metadata": {},
   "source": [
    "Plot 200 randomly chosen spectra"
   ]
  },
  {
   "cell_type": "code",
   "execution_count": 8,
   "metadata": {},
   "outputs": [
    {
     "data": {
      "image/png": "[encoded data removed]",
      "text/plain": [
       "<Figure size 511.2x157.97 with 2 Axes>"
      ]
     },
     "metadata": {
      "needs_background": "light"
     },
     "output_type": "display_data"
    },
    {
     "data": {
      "application/javascript": [
       "\n",
       "            setTimeout(function() {\n",
       "                var nbb_cell_id = 8;\n",
       "                var nbb_unformatted_code = \"# freq range to plot\\nfs = np.linspace(fstart - 400, fend + 400, 100)\\nwith plt.style.context([\\\"science\\\", \\\"grid\\\"]):  # , \\\"no-latex\\\"]):\\n    fig, axes = plt.subplots(\\n        1,\\n        2,\\n        sharey=True,\\n        sharex=True,\\n        figsize=set_size(width=\\\"full\\\", subplots=(1, 2)),\\n    )\\n    alpha = 0.2\\n    for i, row in bursts.sample(n=200, random_state=900).iterrows():\\n        S = row[\\\"in_S\\\"]\\n        mu = row[\\\"in_mu_f\\\"]\\n        sig = row[\\\"in_sig_f\\\"]\\n        det = row[\\\"det\\\"]\\n        if det:\\n            c = \\\"b\\\"\\n            axes[0].plot(fs, gauss(fs, S, mu, sig), c=c, alpha=alpha)\\n        else:\\n            c = \\\"g\\\"\\n            axes[1].plot(fs, gauss(fs, S, mu, sig), c=c, alpha=alpha)\\n    # axes[1].set_ylim(axes[0].get_ylim())\\n    axes[0].axvspan(fstart, fend, alpha=0.1, color=\\\"red\\\")\\n    axes[0].set_ylabel(\\\"Flux (arb. units)\\\")\\n    axes[0].set_xlabel(\\\"Frequency (MHz)\\\")\\n    axes[1].axvspan(fstart, fend, alpha=0.1, color=\\\"red\\\")\\n    axes[1].set_xlabel(\\\"Frequency (MHz)\\\")\\n    plt.tight_layout()\\n    plt.savefig(\\\"spectra_vis.pdf\\\", bbox_inches=\\\"tight\\\", dpi=300)\";\n",
       "                var nbb_formatted_code = \"# freq range to plot\\nfs = np.linspace(fstart - 400, fend + 400, 100)\\nwith plt.style.context([\\\"science\\\", \\\"grid\\\"]):  # , \\\"no-latex\\\"]):\\n    fig, axes = plt.subplots(\\n        1,\\n        2,\\n        sharey=True,\\n        sharex=True,\\n        figsize=set_size(width=\\\"full\\\", subplots=(1, 2)),\\n    )\\n    alpha = 0.2\\n    for i, row in bursts.sample(n=200, random_state=900).iterrows():\\n        S = row[\\\"in_S\\\"]\\n        mu = row[\\\"in_mu_f\\\"]\\n        sig = row[\\\"in_sig_f\\\"]\\n        det = row[\\\"det\\\"]\\n        if det:\\n            c = \\\"b\\\"\\n            axes[0].plot(fs, gauss(fs, S, mu, sig), c=c, alpha=alpha)\\n        else:\\n            c = \\\"g\\\"\\n            axes[1].plot(fs, gauss(fs, S, mu, sig), c=c, alpha=alpha)\\n    # axes[1].set_ylim(axes[0].get_ylim())\\n    axes[0].axvspan(fstart, fend, alpha=0.1, color=\\\"red\\\")\\n    axes[0].set_ylabel(\\\"Flux (arb. units)\\\")\\n    axes[0].set_xlabel(\\\"Frequency (MHz)\\\")\\n    axes[1].axvspan(fstart, fend, alpha=0.1, color=\\\"red\\\")\\n    axes[1].set_xlabel(\\\"Frequency (MHz)\\\")\\n    plt.tight_layout()\\n    plt.savefig(\\\"spectra_vis.pdf\\\", bbox_inches=\\\"tight\\\", dpi=300)\";\n",
       "                var nbb_cells = Jupyter.notebook.get_cells();\n",
       "                for (var i = 0; i < nbb_cells.length; ++i) {\n",
       "                    if (nbb_cells[i].input_prompt_number == nbb_cell_id) {\n",
       "                        if (nbb_cells[i].get_text() == nbb_unformatted_code) {\n",
       "                             nbb_cells[i].set_text(nbb_formatted_code);\n",
       "                        }\n",
       "                        break;\n",
       "                    }\n",
       "                }\n",
       "            }, 500);\n",
       "            "
      ],
      "text/plain": [
       "<IPython.core.display.Javascript object>"
      ]
     },
     "metadata": {},
     "output_type": "display_data"
    }
   ],
   "source": [
    "# freq range to plot\n",
    "fs = np.linspace(fstart - 400, fend + 400, 100)\n",
    "with plt.style.context([\"science\", \"grid\"]):  # , \"no-latex\"]):\n",
    "    fig, axes = plt.subplots(\n",
    "        1,\n",
    "        2,\n",
    "        sharey=True,\n",
    "        sharex=True,\n",
    "        figsize=set_size(width=\"full\", subplots=(1, 2)),\n",
    "    )\n",
    "    alpha = 0.2\n",
    "    for i, row in bursts.sample(n=200, random_state=900).iterrows():\n",
    "        S = row[\"in_S\"]\n",
    "        mu = row[\"in_mu_f\"]\n",
    "        sig = row[\"in_sig_f\"]\n",
    "        det = row[\"det\"]\n",
    "        if det:\n",
    "            c = \"b\"\n",
    "            axes[0].plot(fs, gauss(fs, S, mu, sig), c=c, alpha=alpha)\n",
    "        else:\n",
    "            c = \"g\"\n",
    "            axes[1].plot(fs, gauss(fs, S, mu, sig), c=c, alpha=alpha)\n",
    "    # axes[1].set_ylim(axes[0].get_ylim())\n",
    "    axes[0].axvspan(fstart, fend, alpha=0.1, color=\"red\")\n",
    "    axes[0].set_ylabel(\"Flux (arb. units)\")\n",
    "    axes[0].set_xlabel(\"Frequency (MHz)\")\n",
    "    axes[1].axvspan(fstart, fend, alpha=0.1, color=\"red\")\n",
    "    axes[1].set_xlabel(\"Frequency (MHz)\")\n",
    "    plt.tight_layout()\n",
    "    plt.savefig(\"spectra_vis.pdf\", bbox_inches=\"tight\", dpi=300)"
   ]
  }
 ],
 "metadata": {
  "kernelspec": {
   "display_name": "Python 3",
   "language": "python",
   "name": "python3"
  },
  "language_info": {
   "codemirror_mode": {
    "name": "ipython",
    "version": 3
   },
   "file_extension": ".py",
   "mimetype": "text/x-python",
   "name": "python",
   "nbconvert_exporter": "python",
   "pygments_lexer": "ipython3",
   "version": "3.6.8"
  }
 },
 "nbformat": 4,
 "nbformat_minor": 2
}
