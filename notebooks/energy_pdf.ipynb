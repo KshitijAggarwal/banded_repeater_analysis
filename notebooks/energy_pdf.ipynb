{
 "cells": [
  {
   "cell_type": "code",
   "execution_count": 1,
   "metadata": {},
   "outputs": [
    {
     "data": {
      "application/javascript": [
       "\n",
       "            setTimeout(function() {\n",
       "                var nbb_cell_id = 1;\n",
       "                var nbb_unformatted_code = \"import numpy as np\\nimport pylab as plt\\nimport pandas as pd\\nimport glob\\nimport sys\\n\\nsys.path.append(\\\"../\\\")\\nfrom utils_new import gen_bursts, run_search, analyse_and_plot, fit_and_plot\\nfrom utils import *\\nfrom plotting import set_size\\n\\n%matplotlib inline\\n%load_ext nb_black\";\n",
       "                var nbb_formatted_code = \"import numpy as np\\nimport pylab as plt\\nimport pandas as pd\\nimport glob\\nimport sys\\n\\nsys.path.append(\\\"../\\\")\\nfrom utils_new import gen_bursts, run_search, analyse_and_plot, fit_and_plot\\nfrom utils import *\\nfrom plotting import set_size\\n\\n%matplotlib inline\\n%load_ext nb_black\";\n",
       "                var nbb_cells = Jupyter.notebook.get_cells();\n",
       "                for (var i = 0; i < nbb_cells.length; ++i) {\n",
       "                    if (nbb_cells[i].input_prompt_number == nbb_cell_id) {\n",
       "                        if (nbb_cells[i].get_text() == nbb_unformatted_code) {\n",
       "                             nbb_cells[i].set_text(nbb_formatted_code);\n",
       "                        }\n",
       "                        break;\n",
       "                    }\n",
       "                }\n",
       "            }, 500);\n",
       "            "
      ],
      "text/plain": [
       "<IPython.core.display.Javascript object>"
      ]
     },
     "metadata": {},
     "output_type": "display_data"
    }
   ],
   "source": [
    "import numpy as np\n",
    "import pylab as plt\n",
    "import pandas as pd\n",
    "import glob\n",
    "import sys\n",
    "\n",
    "sys.path.append(\"../\")\n",
    "from utils_new import gen_bursts, run_search, analyse_and_plot, fit_and_plot\n",
    "from utils import *\n",
    "from plotting import set_size\n",
    "\n",
    "%matplotlib inline\n",
    "%load_ext nb_black"
   ]
  },
  {
   "cell_type": "code",
   "execution_count": 2,
   "metadata": {},
   "outputs": [
    {
     "data": {
      "application/javascript": [
       "\n",
       "            setTimeout(function() {\n",
       "                var nbb_cell_id = 2;\n",
       "                var nbb_unformatted_code = \"def analyse_and_plot(bursts, detected, Es, ax, th):\\n\\n    qs = np.quantile(bursts[\\\"in_mu_f\\\"], [0.16, 0.5, 0.84])\\n    print(f\\\"Injected mu_f is: {qs[1]:.3f}+{(qs[2] - qs[1]):.2f}-{(qs[1] - qs[0]):.2f}\\\")\\n\\n    qs = np.quantile(detected[\\\"in_mu_f\\\"], [0.16, 0.5, 0.84])\\n    print(f\\\"Recovered mu_f is: {qs[1]:.3f}+{(qs[2] - qs[1]):.2f}-{(qs[1] - qs[0]):.2f}\\\")\\n\\n    qs = np.quantile(bursts[\\\"in_sig_f\\\"], [0.16, 0.5, 0.84])\\n    print(f\\\"Injected sig_f is: {qs[1]:.2f}+{(qs[2] - qs[1]):.2f}-{(qs[1] - qs[0]):.2f}\\\")\\n\\n    qs = np.quantile(detected[\\\"in_sig_f\\\"], [0.16, 0.5, 0.84])\\n    print(\\n        f\\\"Recovered sig_f is: {qs[1]:.2f}+{(qs[2] - qs[1]):.2f}-{(qs[1] - qs[0]):.2f}\\\"\\n    )\\n\\n    original_E = Es[\\\"original_E\\\"]\\n    detected_snr_E = Es[\\\"detected_snr_E\\\"]\\n    detected_fit_E = Es[\\\"detected_fit_E\\\"]\\n    detected_in_band_E = Es[\\\"detected_in_band_E\\\"]\\n\\n    ax.hist(np.log10(original_E), bins=50, density=False, alpha=0.5)\\n    ax.hist(\\n        np.log10(detected_snr_E),\\n        bins=50,\\n        density=False,\\n        alpha=0.5,\\n        label=r\\\"F$_{\\\\mathrm{th}}$=\\\" + str(th) + \\\"Jyms\\\",\\n    )\\n    ax.set_yscale(\\\"log\\\")\\n    ax.legend()\";\n",
       "                var nbb_formatted_code = \"def analyse_and_plot(bursts, detected, Es, ax, th):\\n\\n    qs = np.quantile(bursts[\\\"in_mu_f\\\"], [0.16, 0.5, 0.84])\\n    print(f\\\"Injected mu_f is: {qs[1]:.3f}+{(qs[2] - qs[1]):.2f}-{(qs[1] - qs[0]):.2f}\\\")\\n\\n    qs = np.quantile(detected[\\\"in_mu_f\\\"], [0.16, 0.5, 0.84])\\n    print(f\\\"Recovered mu_f is: {qs[1]:.3f}+{(qs[2] - qs[1]):.2f}-{(qs[1] - qs[0]):.2f}\\\")\\n\\n    qs = np.quantile(bursts[\\\"in_sig_f\\\"], [0.16, 0.5, 0.84])\\n    print(f\\\"Injected sig_f is: {qs[1]:.2f}+{(qs[2] - qs[1]):.2f}-{(qs[1] - qs[0]):.2f}\\\")\\n\\n    qs = np.quantile(detected[\\\"in_sig_f\\\"], [0.16, 0.5, 0.84])\\n    print(\\n        f\\\"Recovered sig_f is: {qs[1]:.2f}+{(qs[2] - qs[1]):.2f}-{(qs[1] - qs[0]):.2f}\\\"\\n    )\\n\\n    original_E = Es[\\\"original_E\\\"]\\n    detected_snr_E = Es[\\\"detected_snr_E\\\"]\\n    detected_fit_E = Es[\\\"detected_fit_E\\\"]\\n    detected_in_band_E = Es[\\\"detected_in_band_E\\\"]\\n\\n    ax.hist(np.log10(original_E), bins=50, density=False, alpha=0.5)\\n    ax.hist(\\n        np.log10(detected_snr_E),\\n        bins=50,\\n        density=False,\\n        alpha=0.5,\\n        label=r\\\"F$_{\\\\mathrm{th}}$=\\\" + str(th) + \\\"Jyms\\\",\\n    )\\n    ax.set_yscale(\\\"log\\\")\\n    ax.legend()\";\n",
       "                var nbb_cells = Jupyter.notebook.get_cells();\n",
       "                for (var i = 0; i < nbb_cells.length; ++i) {\n",
       "                    if (nbb_cells[i].input_prompt_number == nbb_cell_id) {\n",
       "                        if (nbb_cells[i].get_text() == nbb_unformatted_code) {\n",
       "                             nbb_cells[i].set_text(nbb_formatted_code);\n",
       "                        }\n",
       "                        break;\n",
       "                    }\n",
       "                }\n",
       "            }, 500);\n",
       "            "
      ],
      "text/plain": [
       "<IPython.core.display.Javascript object>"
      ]
     },
     "metadata": {},
     "output_type": "display_data"
    }
   ],
   "source": [
    "def analyse_and_plot(bursts, detected, Es, ax, th):\n",
    "\n",
    "    qs = np.quantile(bursts[\"in_mu_f\"], [0.16, 0.5, 0.84])\n",
    "    print(f\"Injected mu_f is: {qs[1]:.3f}+{(qs[2] - qs[1]):.2f}-{(qs[1] - qs[0]):.2f}\")\n",
    "\n",
    "    qs = np.quantile(detected[\"in_mu_f\"], [0.16, 0.5, 0.84])\n",
    "    print(f\"Recovered mu_f is: {qs[1]:.3f}+{(qs[2] - qs[1]):.2f}-{(qs[1] - qs[0]):.2f}\")\n",
    "\n",
    "    qs = np.quantile(bursts[\"in_sig_f\"], [0.16, 0.5, 0.84])\n",
    "    print(f\"Injected sig_f is: {qs[1]:.2f}+{(qs[2] - qs[1]):.2f}-{(qs[1] - qs[0]):.2f}\")\n",
    "\n",
    "    qs = np.quantile(detected[\"in_sig_f\"], [0.16, 0.5, 0.84])\n",
    "    print(\n",
    "        f\"Recovered sig_f is: {qs[1]:.2f}+{(qs[2] - qs[1]):.2f}-{(qs[1] - qs[0]):.2f}\"\n",
    "    )\n",
    "\n",
    "    original_E = Es[\"original_E\"]\n",
    "    detected_snr_E = Es[\"detected_snr_E\"]\n",
    "    detected_fit_E = Es[\"detected_fit_E\"]\n",
    "    detected_in_band_E = Es[\"detected_in_band_E\"]\n",
    "\n",
    "    ax.hist(np.log10(original_E), bins=50, density=False, alpha=0.5)\n",
    "    ax.hist(\n",
    "        np.log10(detected_snr_E),\n",
    "        bins=50,\n",
    "        density=False,\n",
    "        alpha=0.5,\n",
    "        label=r\"F$_{\\mathrm{th}}$=\" + str(th) + \"Jyms\",\n",
    "    )\n",
    "    ax.set_yscale(\"log\")\n",
    "    ax.legend()"
   ]
  },
  {
   "cell_type": "code",
   "execution_count": 3,
   "metadata": {},
   "outputs": [
    {
     "data": {
      "application/javascript": [
       "\n",
       "            setTimeout(function() {\n",
       "                var nbb_cell_id = 3;\n",
       "                var nbb_unformatted_code = \"# FRB121102 with some nominal parameters\\n# for i in [50, 100, 150, 200, 250]:\\nbursts, name = gen_bursts(\\n    mu_params=[1650, 250],  # sigma_params=[450, 200],\\n    sigma_params=[300, 250],\\n    mu_dist=\\\"norm\\\",\\n    sigma_dist=\\\"norm\\\",\\n    N=50000,\\n    alpha=-1.5,\\n    E_min_log=37,\\n    E_max_log=42,\\n    save=False,\\n)\";\n",
       "                var nbb_formatted_code = \"# FRB121102 with some nominal parameters\\n# for i in [50, 100, 150, 200, 250]:\\nbursts, name = gen_bursts(\\n    mu_params=[1650, 250],  # sigma_params=[450, 200],\\n    sigma_params=[300, 250],\\n    mu_dist=\\\"norm\\\",\\n    sigma_dist=\\\"norm\\\",\\n    N=50000,\\n    alpha=-1.5,\\n    E_min_log=37,\\n    E_max_log=42,\\n    save=False,\\n)\";\n",
       "                var nbb_cells = Jupyter.notebook.get_cells();\n",
       "                for (var i = 0; i < nbb_cells.length; ++i) {\n",
       "                    if (nbb_cells[i].input_prompt_number == nbb_cell_id) {\n",
       "                        if (nbb_cells[i].get_text() == nbb_unformatted_code) {\n",
       "                             nbb_cells[i].set_text(nbb_formatted_code);\n",
       "                        }\n",
       "                        break;\n",
       "                    }\n",
       "                }\n",
       "            }, 500);\n",
       "            "
      ],
      "text/plain": [
       "<IPython.core.display.Javascript object>"
      ]
     },
     "metadata": {},
     "output_type": "display_data"
    }
   ],
   "source": [
    "# FRB121102 with some nominal parameters\n",
    "# for i in [50, 100, 150, 200, 250]:\n",
    "bursts, name = gen_bursts(\n",
    "    mu_params=[1650, 250],  # sigma_params=[450, 200],\n",
    "    sigma_params=[300, 250],\n",
    "    mu_dist=\"norm\",\n",
    "    sigma_dist=\"norm\",\n",
    "    N=50000,\n",
    "    alpha=-1.5,\n",
    "    E_min_log=37,\n",
    "    E_max_log=42,\n",
    "    save=False,\n",
    ")"
   ]
  },
  {
   "cell_type": "code",
   "execution_count": 4,
   "metadata": {},
   "outputs": [
    {
     "data": {
      "application/javascript": [
       "\n",
       "            setTimeout(function() {\n",
       "                var nbb_cell_id = 4;\n",
       "                var nbb_unformatted_code = \"# bursts, name = gen_bursts(mu_params=[900, 1800],\\n#                           sigma_params=[50, 200],\\n#                           mu_dist='uniform', sigma_dist='uniform',\\n#                           N=10000, alpha=-1.8,\\n#                           E_min_log=36.5, E_max_log=39.5, save=False)\\n\\n# very sensitive (> FAST)\\n# moderate ( ~GBT)\\n# less (Parkes, etc)\\nthresholds = [0.02, 0.02 * 5, 0.02 * 10 * 2]\";\n",
       "                var nbb_formatted_code = \"# bursts, name = gen_bursts(mu_params=[900, 1800],\\n#                           sigma_params=[50, 200],\\n#                           mu_dist='uniform', sigma_dist='uniform',\\n#                           N=10000, alpha=-1.8,\\n#                           E_min_log=36.5, E_max_log=39.5, save=False)\\n\\n# very sensitive (> FAST)\\n# moderate ( ~GBT)\\n# less (Parkes, etc)\\nthresholds = [0.02, 0.02 * 5, 0.02 * 10 * 2]\";\n",
       "                var nbb_cells = Jupyter.notebook.get_cells();\n",
       "                for (var i = 0; i < nbb_cells.length; ++i) {\n",
       "                    if (nbb_cells[i].input_prompt_number == nbb_cell_id) {\n",
       "                        if (nbb_cells[i].get_text() == nbb_unformatted_code) {\n",
       "                             nbb_cells[i].set_text(nbb_formatted_code);\n",
       "                        }\n",
       "                        break;\n",
       "                    }\n",
       "                }\n",
       "            }, 500);\n",
       "            "
      ],
      "text/plain": [
       "<IPython.core.display.Javascript object>"
      ]
     },
     "metadata": {},
     "output_type": "display_data"
    }
   ],
   "source": [
    "# bursts, name = gen_bursts(mu_params=[900, 1800],\n",
    "#                           sigma_params=[50, 200],\n",
    "#                           mu_dist='uniform', sigma_dist='uniform',\n",
    "#                           N=10000, alpha=-1.8,\n",
    "#                           E_min_log=36.5, E_max_log=39.5, save=False)\n",
    "\n",
    "# very sensitive (> FAST)\n",
    "# moderate ( ~GBT)\n",
    "# less (Parkes, etc)\n",
    "thresholds = [0.02, 0.02 * 5, 0.02 * 10 * 2]"
   ]
  },
  {
   "cell_type": "code",
   "execution_count": null,
   "metadata": {
    "scrolled": false
   },
   "outputs": [
    {
     "name": "stdout",
     "output_type": "stream",
     "text": [
      "0.02\n",
      "44228 11956\n",
      "Injected mu_f is: 1650.382+249.47-248.37\n",
      "Recovered mu_f is: 1579.064+189.91-214.35\n",
      "Injected sig_f is: 336.64+232.54-199.73\n",
      "Recovered sig_f is: 145.55+141.18-90.85\n",
      "0.1\n",
      "44228 3019\n",
      "Injected mu_f is: 1650.382+249.47-248.37\n",
      "Recovered mu_f is: 1548.934+158.35-196.75\n",
      "Injected sig_f is: 336.64+232.54-199.73\n",
      "Recovered sig_f is: 50.72+116.83-33.77\n",
      "0.4\n",
      "44228 774\n",
      "Injected mu_f is: 1650.382+249.47-248.37\n",
      "Recovered mu_f is: 1551.229+140.92-195.23\n",
      "Injected sig_f is: 336.64+232.54-199.73\n",
      "Recovered sig_f is: 16.50+69.27-11.91\n"
     ]
    },
    {
     "name": "stderr",
     "output_type": "stream",
     "text": [
      "findfont: Font family ['serif'] not found. Falling back to DejaVu Sans.\n"
     ]
    }
   ],
   "source": [
    "with plt.style.context([\"science\", \"grid\"]):  # , \"no-latex\"]):\n",
    "    fig, axes = plt.subplots(\n",
    "        1,\n",
    "        3,\n",
    "        figsize=set_size(width=\"full\", subplots=(1.25, 3)),\n",
    "        sharey=True,\n",
    "        sharex=True,\n",
    "    )\n",
    "    for i, th in enumerate(thresholds):\n",
    "        ax = axes[i]\n",
    "        print(th)\n",
    "        detected, detected_in_band_df, Es = run_search(\n",
    "            bursts,\n",
    "            fstart=974,\n",
    "            fend=1774,\n",
    "            fluence_threshold=th,\n",
    "            in_band_sig=3,\n",
    "            ret=\"all\",\n",
    "            distance=972,\n",
    "        )\n",
    "        print(len(bursts), len(detected))\n",
    "\n",
    "        analyse_and_plot(bursts, detected, Es, ax, th)\n",
    "        ax.set_xlabel(\"Energy (erg)\")\n",
    "    plt.tight_layout()\n",
    "    plt.savefig(\"energy_pdf.pdf\", bbox_inches=\"tight\", dpi=300)"
   ]
  }
 ],
 "metadata": {
  "kernelspec": {
   "display_name": "Python 3",
   "language": "python",
   "name": "python3"
  },
  "language_info": {
   "codemirror_mode": {
    "name": "ipython",
    "version": 3
   },
   "file_extension": ".py",
   "mimetype": "text/x-python",
   "name": "python",
   "nbconvert_exporter": "python",
   "pygments_lexer": "ipython3",
   "version": "3.6.8"
  }
 },
 "nbformat": 4,
 "nbformat_minor": 2
}
