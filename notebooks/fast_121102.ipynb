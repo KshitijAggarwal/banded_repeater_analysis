{
 "cells": [
  {
   "cell_type": "code",
   "execution_count": 1,
   "metadata": {},
   "outputs": [
    {
     "data": {
      "application/javascript": [
       "\n",
       "            setTimeout(function() {\n",
       "                var nbb_cell_id = 1;\n",
       "                var nbb_unformatted_code = \"import numpy as np\\nimport pylab as plt\\nimport pandas as pd\\nimport sys\\n\\nsys.path.append(\\\"../\\\")\\nfrom utils import *\\nfrom plotting import set_size\\n\\n%matplotlib inline\\n%load_ext nb_black\";\n",
       "                var nbb_formatted_code = \"import numpy as np\\nimport pylab as plt\\nimport pandas as pd\\nimport sys\\n\\nsys.path.append(\\\"../\\\")\\nfrom utils import *\\nfrom plotting import set_size\\n\\n%matplotlib inline\\n%load_ext nb_black\";\n",
       "                var nbb_cells = Jupyter.notebook.get_cells();\n",
       "                for (var i = 0; i < nbb_cells.length; ++i) {\n",
       "                    if (nbb_cells[i].input_prompt_number == nbb_cell_id) {\n",
       "                        if (nbb_cells[i].get_text() == nbb_unformatted_code) {\n",
       "                             nbb_cells[i].set_text(nbb_formatted_code);\n",
       "                        }\n",
       "                        break;\n",
       "                    }\n",
       "                }\n",
       "            }, 500);\n",
       "            "
      ],
      "text/plain": [
       "<IPython.core.display.Javascript object>"
      ]
     },
     "metadata": {},
     "output_type": "display_data"
    }
   ],
   "source": [
    "import numpy as np\n",
    "import pylab as plt\n",
    "import pandas as pd\n",
    "import sys\n",
    "\n",
    "sys.path.append(\"../\")\n",
    "from utils import *\n",
    "from plotting import set_size\n",
    "\n",
    "%matplotlib inline\n",
    "%load_ext nb_black"
   ]
  },
  {
   "cell_type": "markdown",
   "metadata": {},
   "source": [
    "Read FAST bursts and estimate the energy using burst bandwidth"
   ]
  },
  {
   "cell_type": "code",
   "execution_count": 2,
   "metadata": {},
   "outputs": [
    {
     "data": {
      "application/javascript": [
       "\n",
       "            setTimeout(function() {\n",
       "                var nbb_cell_id = 2;\n",
       "                var nbb_unformatted_code = \"df = pd.read_csv(\\\"../fastbursts.csv\\\")\\nenergy_using_bw = fluence_to_energy(df[\\\"fluence\\\"] / 1000, df[\\\"bw\\\"] * 1000, distance=949)\\nbins = np.linspace(35.5, 40, 50)\";\n",
       "                var nbb_formatted_code = \"df = pd.read_csv(\\\"../fastbursts.csv\\\")\\nenergy_using_bw = fluence_to_energy(df[\\\"fluence\\\"] / 1000, df[\\\"bw\\\"] * 1000, distance=949)\\nbins = np.linspace(35.5, 40, 50)\";\n",
       "                var nbb_cells = Jupyter.notebook.get_cells();\n",
       "                for (var i = 0; i < nbb_cells.length; ++i) {\n",
       "                    if (nbb_cells[i].input_prompt_number == nbb_cell_id) {\n",
       "                        if (nbb_cells[i].get_text() == nbb_unformatted_code) {\n",
       "                             nbb_cells[i].set_text(nbb_formatted_code);\n",
       "                        }\n",
       "                        break;\n",
       "                    }\n",
       "                }\n",
       "            }, 500);\n",
       "            "
      ],
      "text/plain": [
       "<IPython.core.display.Javascript object>"
      ]
     },
     "metadata": {},
     "output_type": "display_data"
    }
   ],
   "source": [
    "df = pd.read_csv(\"../fastbursts.csv\")\n",
    "energy_using_bw = fluence_to_energy(df[\"fluence\"] / 1000, df[\"bw\"] * 1000, distance=949)\n",
    "bins = np.linspace(35.5, 40, 50)"
   ]
  },
  {
   "cell_type": "markdown",
   "metadata": {},
   "source": [
    "Plot"
   ]
  },
  {
   "cell_type": "code",
   "execution_count": 13,
   "metadata": {
    "scrolled": true
   },
   "outputs": [
    {
     "name": "stderr",
     "output_type": "stream",
     "text": [
      "/home/kshitij/anaconda3/envs/grbfrb/lib/python3.6/site-packages/numpy/ma/core.py:6849: RuntimeWarning: overflow encountered in power\n",
      "  result = np.where(m, fa, umath.power(fa, fb)).view(basetype)\n",
      "/home/kshitij/anaconda3/envs/grbfrb/lib/python3.6/site-packages/ipykernel_launcher.py:36: UserWarning: FixedFormatter should only be used together with FixedLocator\n"
     ]
    },
    {
     "data": {
      "image/png": "[encoded data removed]",
      "text/plain": [
       "<Figure size 241.361x298.339 with 2 Axes>"
      ]
     },
     "metadata": {
      "needs_background": "light"
     },
     "output_type": "display_data"
    },
    {
     "data": {
      "application/javascript": [
       "\n",
       "            setTimeout(function() {\n",
       "                var nbb_cell_id = 13;\n",
       "                var nbb_unformatted_code = \"with plt.style.context([\\\"science\\\", \\\"grid\\\"]):  # , \\\"no-latex\\\"]):\\n    fig, ax = plt.subplots(\\n        2,\\n        1,\\n        sharey=True,\\n        sharex=True,\\n        figsize=set_size(width=\\\"half\\\", subplots=(2, 1), fraction=1.0),\\n    )\\n    ax[0].hist(np.log10(df.E), bins=bins, color=\\\"r\\\", alpha=0.5, label=\\\"Li et al. 2021\\\")\\n    ax[1].hist(\\n        np.log10(energy_using_bw),\\n        bins=bins,\\n        color=\\\"g\\\",\\n        alpha=0.5,\\n        label=\\\"Using burst \\\\n bandwidth\\\",\\n    )\\n    ax[0].legend()\\n    ax[1].legend()\\n    ax[0].set_yscale(\\\"log\\\")\\n    ax[1].set_yscale(\\\"log\\\")\\n    plt.tight_layout()\\n    ax[1].set_xlabel(r\\\"Energy (erg)\\\")\\n    ax[0].set_ylabel(r\\\"N\\\")\\n    ax[1].set_ylabel(r\\\"N\\\")\\n\\n    for a in ax:\\n        legend = a.legend(fontsize=\\\"medium\\\", loc=\\\"lower right\\\")\\n        legend.get_frame().set_alpha(0.3)\\n\\n    ax[0].axvline(x=np.log10(2.5) + 37, ymin=0, ymax=1000, color=\\\"k\\\", linestyle=\\\"--\\\")\\n    ax[1].axvline(x=np.log10(2.5) + 37, ymin=0, ymax=1000, color=\\\"k\\\", linestyle=\\\"--\\\")\\n\\n    new_labels = []\\n    for l in ax[1].get_xticklabels():\\n        new_labels.append(\\\"$\\\\\\\\mathdefault{10^{\\\" + l._text[-4:-2] + \\\"}}$\\\")\\n    ax[1].set_xticklabels(new_labels)\\n\\n    plt.tight_layout()\\n    plt.savefig(\\\"fast_121102.pdf\\\", bbox_inches=\\\"tight\\\", dpi=300)\";\n",
       "                var nbb_formatted_code = \"with plt.style.context([\\\"science\\\", \\\"grid\\\"]):  # , \\\"no-latex\\\"]):\\n    fig, ax = plt.subplots(\\n        2,\\n        1,\\n        sharey=True,\\n        sharex=True,\\n        figsize=set_size(width=\\\"half\\\", subplots=(2, 1), fraction=1.0),\\n    )\\n    ax[0].hist(np.log10(df.E), bins=bins, color=\\\"r\\\", alpha=0.5, label=\\\"Li et al. 2021\\\")\\n    ax[1].hist(\\n        np.log10(energy_using_bw),\\n        bins=bins,\\n        color=\\\"g\\\",\\n        alpha=0.5,\\n        label=\\\"Using burst \\\\n bandwidth\\\",\\n    )\\n    ax[0].legend()\\n    ax[1].legend()\\n    ax[0].set_yscale(\\\"log\\\")\\n    ax[1].set_yscale(\\\"log\\\")\\n    plt.tight_layout()\\n    ax[1].set_xlabel(r\\\"Energy (erg)\\\")\\n    ax[0].set_ylabel(r\\\"N\\\")\\n    ax[1].set_ylabel(r\\\"N\\\")\\n\\n    for a in ax:\\n        legend = a.legend(fontsize=\\\"medium\\\", loc=\\\"lower right\\\")\\n        legend.get_frame().set_alpha(0.3)\\n\\n    ax[0].axvline(x=np.log10(2.5) + 37, ymin=0, ymax=1000, color=\\\"k\\\", linestyle=\\\"--\\\")\\n    ax[1].axvline(x=np.log10(2.5) + 37, ymin=0, ymax=1000, color=\\\"k\\\", linestyle=\\\"--\\\")\\n\\n    new_labels = []\\n    for l in ax[1].get_xticklabels():\\n        new_labels.append(\\\"$\\\\\\\\mathdefault{10^{\\\" + l._text[-4:-2] + \\\"}}$\\\")\\n    ax[1].set_xticklabels(new_labels)\\n\\n    plt.tight_layout()\\n    plt.savefig(\\\"fast_121102.pdf\\\", bbox_inches=\\\"tight\\\", dpi=300)\";\n",
       "                var nbb_cells = Jupyter.notebook.get_cells();\n",
       "                for (var i = 0; i < nbb_cells.length; ++i) {\n",
       "                    if (nbb_cells[i].input_prompt_number == nbb_cell_id) {\n",
       "                        if (nbb_cells[i].get_text() == nbb_unformatted_code) {\n",
       "                             nbb_cells[i].set_text(nbb_formatted_code);\n",
       "                        }\n",
       "                        break;\n",
       "                    }\n",
       "                }\n",
       "            }, 500);\n",
       "            "
      ],
      "text/plain": [
       "<IPython.core.display.Javascript object>"
      ]
     },
     "metadata": {},
     "output_type": "display_data"
    }
   ],
   "source": [
    "with plt.style.context([\"science\", \"grid\"]):  # , \"no-latex\"]):\n",
    "    fig, ax = plt.subplots(\n",
    "        2,\n",
    "        1,\n",
    "        sharey=True,\n",
    "        sharex=True,\n",
    "        figsize=set_size(width=\"half\", subplots=(2, 1), fraction=1.0),\n",
    "    )\n",
    "    ax[0].hist(np.log10(df.E), bins=bins, color=\"r\", alpha=0.5, label=\"Li et al. 2021\")\n",
    "    ax[1].hist(\n",
    "        np.log10(energy_using_bw),\n",
    "        bins=bins,\n",
    "        color=\"g\",\n",
    "        alpha=0.5,\n",
    "        label=\"Using burst \\n bandwidth\",\n",
    "    )\n",
    "    ax[0].legend()\n",
    "    ax[1].legend()\n",
    "    ax[0].set_yscale(\"log\")\n",
    "    ax[1].set_yscale(\"log\")\n",
    "    plt.tight_layout()\n",
    "    ax[1].set_xlabel(r\"Energy (erg)\")\n",
    "    ax[0].set_ylabel(r\"N\")\n",
    "    ax[1].set_ylabel(r\"N\")\n",
    "\n",
    "    for a in ax:\n",
    "        legend = a.legend(fontsize=\"medium\", loc=\"lower right\")\n",
    "        legend.get_frame().set_alpha(0.3)\n",
    "\n",
    "    ax[0].axvline(x=np.log10(2.5) + 37, ymin=0, ymax=1000, color=\"k\", linestyle=\"--\")\n",
    "    ax[1].axvline(x=np.log10(2.5) + 37, ymin=0, ymax=1000, color=\"k\", linestyle=\"--\")\n",
    "\n",
    "    new_labels = []\n",
    "    for l in ax[1].get_xticklabels():\n",
    "        new_labels.append(\"$\\\\mathdefault{10^{\" + l._text[-4:-2] + \"}}$\")\n",
    "    ax[1].set_xticklabels(new_labels)\n",
    "\n",
    "    plt.tight_layout()\n",
    "    plt.savefig(\"fast_121102.pdf\", bbox_inches=\"tight\", dpi=300)"
   ]
  },
  {
   "cell_type": "code",
   "execution_count": null,
   "metadata": {},
   "outputs": [],
   "source": []
  }
 ],
 "metadata": {
  "kernelspec": {
   "display_name": "Python 3",
   "language": "python",
   "name": "python3"
  },
  "language_info": {
   "codemirror_mode": {
    "name": "ipython",
    "version": 3
   },
   "file_extension": ".py",
   "mimetype": "text/x-python",
   "name": "python",
   "nbconvert_exporter": "python",
   "pygments_lexer": "ipython3",
   "version": "3.6.8"
  }
 },
 "nbformat": 4,
 "nbformat_minor": 2
}
