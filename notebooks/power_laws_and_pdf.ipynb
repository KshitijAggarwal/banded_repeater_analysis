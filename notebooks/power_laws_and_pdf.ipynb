{
 "cells": [
  {
   "cell_type": "code",
   "execution_count": 1,
   "metadata": {},
   "outputs": [
    {
     "data": {
      "application/javascript": [
       "\n",
       "            setTimeout(function() {\n",
       "                var nbb_cell_id = 1;\n",
       "                var nbb_unformatted_code = \"import numpy as np\\nimport pylab as plt\\nimport pandas as pd\\nimport glob\\nimport sys\\n\\nsys.path.append(\\\"../\\\")\\nfrom simulate import gen_bursts, run_search, analyse_and_plot\\nfrom utils import *\\nfrom plotting import set_size\\n\\n%matplotlib inline\\n%load_ext nb_black\";\n",
       "                var nbb_formatted_code = \"import numpy as np\\nimport pylab as plt\\nimport pandas as pd\\nimport glob\\nimport sys\\n\\nsys.path.append(\\\"../\\\")\\nfrom simulate import gen_bursts, run_search, analyse_and_plot\\nfrom utils import *\\nfrom plotting import set_size\\n\\n%matplotlib inline\\n%load_ext nb_black\";\n",
       "                var nbb_cells = Jupyter.notebook.get_cells();\n",
       "                for (var i = 0; i < nbb_cells.length; ++i) {\n",
       "                    if (nbb_cells[i].input_prompt_number == nbb_cell_id) {\n",
       "                        if (nbb_cells[i].get_text() == nbb_unformatted_code) {\n",
       "                             nbb_cells[i].set_text(nbb_formatted_code);\n",
       "                        }\n",
       "                        break;\n",
       "                    }\n",
       "                }\n",
       "            }, 500);\n",
       "            "
      ],
      "text/plain": [
       "<IPython.core.display.Javascript object>"
      ]
     },
     "metadata": {},
     "output_type": "display_data"
    }
   ],
   "source": [
    "import numpy as np\n",
    "import pylab as plt\n",
    "import pandas as pd\n",
    "import glob\n",
    "import sys\n",
    "\n",
    "sys.path.append(\"../\")\n",
    "from simulate import gen_bursts, run_search, analyse_and_plot\n",
    "from utils import *\n",
    "from plotting import set_size\n",
    "\n",
    "%matplotlib inline\n",
    "%load_ext nb_black"
   ]
  },
  {
   "cell_type": "markdown",
   "metadata": {},
   "source": [
    "Simulate bursts "
   ]
  },
  {
   "cell_type": "code",
   "execution_count": 2,
   "metadata": {},
   "outputs": [
    {
     "data": {
      "application/javascript": [
       "\n",
       "            setTimeout(function() {\n",
       "                var nbb_cell_id = 2;\n",
       "                var nbb_unformatted_code = \"# FRB121102 with some nominal parameters\\nnp.random.seed(1996)\\n\\nbursts, name = gen_bursts(\\n    mu_params=[1650, 250],  # sigma_params=[450, 200],\\n    sigma_params=[300, 250],\\n    mu_dist=\\\"norm\\\",\\n    sigma_dist=\\\"norm\\\",\\n    N=50000,\\n    alpha=-1.5,\\n    E_min_log=37,\\n    E_max_log=42,\\n    save=False,\\n)\";\n",
       "                var nbb_formatted_code = \"# FRB121102 with some nominal parameters\\nnp.random.seed(1996)\\n\\nbursts, name = gen_bursts(\\n    mu_params=[1650, 250],  # sigma_params=[450, 200],\\n    sigma_params=[300, 250],\\n    mu_dist=\\\"norm\\\",\\n    sigma_dist=\\\"norm\\\",\\n    N=50000,\\n    alpha=-1.5,\\n    E_min_log=37,\\n    E_max_log=42,\\n    save=False,\\n)\";\n",
       "                var nbb_cells = Jupyter.notebook.get_cells();\n",
       "                for (var i = 0; i < nbb_cells.length; ++i) {\n",
       "                    if (nbb_cells[i].input_prompt_number == nbb_cell_id) {\n",
       "                        if (nbb_cells[i].get_text() == nbb_unformatted_code) {\n",
       "                             nbb_cells[i].set_text(nbb_formatted_code);\n",
       "                        }\n",
       "                        break;\n",
       "                    }\n",
       "                }\n",
       "            }, 500);\n",
       "            "
      ],
      "text/plain": [
       "<IPython.core.display.Javascript object>"
      ]
     },
     "metadata": {},
     "output_type": "display_data"
    }
   ],
   "source": [
    "# FRB121102 with some nominal parameters\n",
    "np.random.seed(1996)\n",
    "\n",
    "bursts, name = gen_bursts(\n",
    "    mu_params=[1650, 250],  # sigma_params=[450, 200],\n",
    "    sigma_params=[300, 250],\n",
    "    mu_dist=\"norm\",\n",
    "    sigma_dist=\"norm\",\n",
    "    N=50000,\n",
    "    alpha=-1.5,\n",
    "    E_min_log=37,\n",
    "    E_max_log=42,\n",
    "    save=False,\n",
    ")"
   ]
  },
  {
   "cell_type": "code",
   "execution_count": 3,
   "metadata": {},
   "outputs": [
    {
     "data": {
      "application/javascript": [
       "\n",
       "            setTimeout(function() {\n",
       "                var nbb_cell_id = 3;\n",
       "                var nbb_unformatted_code = \"# Plot cumulative energy distribution and fit a single or double power law to it \\ndef fit_and_plot(\\n    E,\\n    ax,\\n    plot_orig=True,\\n    plot_fit=True,\\n    single_law=True,\\n    double_law=False,\\n    color=\\\"k\\\",\\n    label=\\\"label\\\",\\n):\\n    const = 10 ** 34\\n    Es = np.sort(E) / const\\n    Ns = np.linspace(len(Es) - 1, 0, len(Es))\\n\\n    if plot_orig:\\n        ax.scatter(np.sort(E), np.log10(Ns), c=color, marker=\\\".\\\")\\n\\n    if plot_fit:\\n        ret = {}\\n        if single_law:\\n            scale, slope = fit_single_power_law(Ns, Es)\\n            x = np.sort(E)\\n            y = np.log10(single_power_law(Es, scale, slope).astype(\\\"float\\\"))\\n            ax.plot(x, y, c=color, label=f\\\"{label}={slope:.3f}\\\")\\n\\n            ret[\\\"single\\\"] = {\\\"scale\\\": scale, \\\"slope\\\": slope}\\n\\n        if double_law:\\n            vals = fit_double_power_law(Ns, Es)\\n            scale, slope1, slope2, break_e = vals\\n            x = np.sort(E)\\n            y = np.log10(\\n                double_power_law(Es, scale, break_e, slope1, slope2).astype(\\\"float\\\")\\n            )\\n\\n            ax.axvline(x=break_e * const, linestyle=\\\"--\\\", c=color)\\n\\n            ax.plot(\\n                x,\\n                y,\\n                linestyle=\\\"--\\\",\\n                c=color,\\n                label=f\\\"{label}={slope1:.3f}, {slope2:.3f}\\\",\\n            )\\n\\n            ax.set_xscale(\\\"log\\\")\\n            ret[\\\"double\\\"] = {\\n                \\\"scale\\\": scale,\\n                \\\"slope1\\\": slope1,\\n                \\\"slope2\\\": slope2,\\n                \\\"break_e\\\": break_e * const,\\n            }\\n\\n        return ret\\n    else:\\n        return 0\";\n",
       "                var nbb_formatted_code = \"# Plot cumulative energy distribution and fit a single or double power law to it\\ndef fit_and_plot(\\n    E,\\n    ax,\\n    plot_orig=True,\\n    plot_fit=True,\\n    single_law=True,\\n    double_law=False,\\n    color=\\\"k\\\",\\n    label=\\\"label\\\",\\n):\\n    const = 10 ** 34\\n    Es = np.sort(E) / const\\n    Ns = np.linspace(len(Es) - 1, 0, len(Es))\\n\\n    if plot_orig:\\n        ax.scatter(np.sort(E), np.log10(Ns), c=color, marker=\\\".\\\")\\n\\n    if plot_fit:\\n        ret = {}\\n        if single_law:\\n            scale, slope = fit_single_power_law(Ns, Es)\\n            x = np.sort(E)\\n            y = np.log10(single_power_law(Es, scale, slope).astype(\\\"float\\\"))\\n            ax.plot(x, y, c=color, label=f\\\"{label}={slope:.3f}\\\")\\n\\n            ret[\\\"single\\\"] = {\\\"scale\\\": scale, \\\"slope\\\": slope}\\n\\n        if double_law:\\n            vals = fit_double_power_law(Ns, Es)\\n            scale, slope1, slope2, break_e = vals\\n            x = np.sort(E)\\n            y = np.log10(\\n                double_power_law(Es, scale, break_e, slope1, slope2).astype(\\\"float\\\")\\n            )\\n\\n            ax.axvline(x=break_e * const, linestyle=\\\"--\\\", c=color)\\n\\n            ax.plot(\\n                x,\\n                y,\\n                linestyle=\\\"--\\\",\\n                c=color,\\n                label=f\\\"{label}={slope1:.3f}, {slope2:.3f}\\\",\\n            )\\n\\n            ax.set_xscale(\\\"log\\\")\\n            ret[\\\"double\\\"] = {\\n                \\\"scale\\\": scale,\\n                \\\"slope1\\\": slope1,\\n                \\\"slope2\\\": slope2,\\n                \\\"break_e\\\": break_e * const,\\n            }\\n\\n        return ret\\n    else:\\n        return 0\";\n",
       "                var nbb_cells = Jupyter.notebook.get_cells();\n",
       "                for (var i = 0; i < nbb_cells.length; ++i) {\n",
       "                    if (nbb_cells[i].input_prompt_number == nbb_cell_id) {\n",
       "                        if (nbb_cells[i].get_text() == nbb_unformatted_code) {\n",
       "                             nbb_cells[i].set_text(nbb_formatted_code);\n",
       "                        }\n",
       "                        break;\n",
       "                    }\n",
       "                }\n",
       "            }, 500);\n",
       "            "
      ],
      "text/plain": [
       "<IPython.core.display.Javascript object>"
      ]
     },
     "metadata": {},
     "output_type": "display_data"
    }
   ],
   "source": [
    "# Plot cumulative energy distribution and fit a single or double power law to it\n",
    "def fit_and_plot(\n",
    "    E,\n",
    "    ax,\n",
    "    plot_orig=True,\n",
    "    plot_fit=True,\n",
    "    single_law=True,\n",
    "    double_law=False,\n",
    "    color=\"k\",\n",
    "    label=\"label\",\n",
    "):\n",
    "    const = 10 ** 34\n",
    "    Es = np.sort(E) / const\n",
    "    Ns = np.linspace(len(Es) - 1, 0, len(Es))\n",
    "\n",
    "    if plot_orig:\n",
    "        ax.scatter(np.sort(E), np.log10(Ns), c=color, marker=\".\")\n",
    "\n",
    "    if plot_fit:\n",
    "        ret = {}\n",
    "        if single_law:\n",
    "            scale, slope = fit_single_power_law(Ns, Es)\n",
    "            x = np.sort(E)\n",
    "            y = np.log10(single_power_law(Es, scale, slope).astype(\"float\"))\n",
    "            ax.plot(x, y, c=color, label=f\"{label}={slope:.3f}\")\n",
    "\n",
    "            ret[\"single\"] = {\"scale\": scale, \"slope\": slope}\n",
    "\n",
    "        if double_law:\n",
    "            vals = fit_double_power_law(Ns, Es)\n",
    "            scale, slope1, slope2, break_e = vals\n",
    "            x = np.sort(E)\n",
    "            y = np.log10(\n",
    "                double_power_law(Es, scale, break_e, slope1, slope2).astype(\"float\")\n",
    "            )\n",
    "\n",
    "            ax.axvline(x=break_e * const, linestyle=\"--\", c=color)\n",
    "\n",
    "            ax.plot(\n",
    "                x,\n",
    "                y,\n",
    "                linestyle=\"--\",\n",
    "                c=color,\n",
    "                label=f\"{label}={slope1:.3f}, {slope2:.3f}\",\n",
    "            )\n",
    "\n",
    "            ax.set_xscale(\"log\")\n",
    "            ret[\"double\"] = {\n",
    "                \"scale\": scale,\n",
    "                \"slope1\": slope1,\n",
    "                \"slope2\": slope2,\n",
    "                \"break_e\": break_e * const,\n",
    "            }\n",
    "\n",
    "        return ret\n",
    "    else:\n",
    "        return 0"
   ]
  },
  {
   "cell_type": "code",
   "execution_count": 4,
   "metadata": {},
   "outputs": [
    {
     "data": {
      "application/javascript": [
       "\n",
       "            setTimeout(function() {\n",
       "                var nbb_cell_id = 4;\n",
       "                var nbb_unformatted_code = \"# Plot energy histograms and print statistics of parameters\\ndef analyse_and_plot(bursts, detected, Es, ax, th):\\n\\n    qs = np.quantile(bursts[\\\"in_mu_f\\\"], [0.16, 0.5, 0.84])\\n    print(f\\\"Injected mu_f is: {qs[1]:.3f}+{(qs[2] - qs[1]):.2f}-{(qs[1] - qs[0]):.2f}\\\")\\n\\n    qs = np.quantile(detected[\\\"in_mu_f\\\"], [0.16, 0.5, 0.84])\\n    print(f\\\"Recovered mu_f is: {qs[1]:.3f}+{(qs[2] - qs[1]):.2f}-{(qs[1] - qs[0]):.2f}\\\")\\n\\n    qs = np.quantile(bursts[\\\"in_sig_f\\\"], [0.16, 0.5, 0.84])\\n    print(f\\\"Injected sig_f is: {qs[1]:.2f}+{(qs[2] - qs[1]):.2f}-{(qs[1] - qs[0]):.2f}\\\")\\n\\n    qs = np.quantile(detected[\\\"in_sig_f\\\"], [0.16, 0.5, 0.84])\\n    print(\\n        f\\\"Recovered sig_f is: {qs[1]:.2f}+{(qs[2] - qs[1]):.2f}-{(qs[1] - qs[0]):.2f}\\\"\\n    )\\n\\n    original_E = Es[\\\"original_E\\\"]\\n    detected_snr_E = Es[\\\"detected_snr_E\\\"]\\n    detected_fit_E = Es[\\\"detected_fit_E\\\"]\\n    detected_in_band_E = Es[\\\"detected_in_band_E\\\"]\\n\\n    ax.hist(np.log10(original_E), bins=50, density=False, alpha=0.5)\\n    ax.hist(\\n        np.log10(detected_snr_E),\\n        bins=50,\\n        density=False,\\n        alpha=0.5,\\n        label=r\\\"F$_{\\\\mathrm{th}}$=~\\\" + str(th) + r\\\"~Jy\\\\,ms\\\",\\n    )\\n    ax.set_yscale(\\\"log\\\")\";\n",
       "                var nbb_formatted_code = \"# Plot energy histograms and print statistics of parameters\\ndef analyse_and_plot(bursts, detected, Es, ax, th):\\n\\n    qs = np.quantile(bursts[\\\"in_mu_f\\\"], [0.16, 0.5, 0.84])\\n    print(f\\\"Injected mu_f is: {qs[1]:.3f}+{(qs[2] - qs[1]):.2f}-{(qs[1] - qs[0]):.2f}\\\")\\n\\n    qs = np.quantile(detected[\\\"in_mu_f\\\"], [0.16, 0.5, 0.84])\\n    print(f\\\"Recovered mu_f is: {qs[1]:.3f}+{(qs[2] - qs[1]):.2f}-{(qs[1] - qs[0]):.2f}\\\")\\n\\n    qs = np.quantile(bursts[\\\"in_sig_f\\\"], [0.16, 0.5, 0.84])\\n    print(f\\\"Injected sig_f is: {qs[1]:.2f}+{(qs[2] - qs[1]):.2f}-{(qs[1] - qs[0]):.2f}\\\")\\n\\n    qs = np.quantile(detected[\\\"in_sig_f\\\"], [0.16, 0.5, 0.84])\\n    print(\\n        f\\\"Recovered sig_f is: {qs[1]:.2f}+{(qs[2] - qs[1]):.2f}-{(qs[1] - qs[0]):.2f}\\\"\\n    )\\n\\n    original_E = Es[\\\"original_E\\\"]\\n    detected_snr_E = Es[\\\"detected_snr_E\\\"]\\n    detected_fit_E = Es[\\\"detected_fit_E\\\"]\\n    detected_in_band_E = Es[\\\"detected_in_band_E\\\"]\\n\\n    ax.hist(np.log10(original_E), bins=50, density=False, alpha=0.5)\\n    ax.hist(\\n        np.log10(detected_snr_E),\\n        bins=50,\\n        density=False,\\n        alpha=0.5,\\n        label=r\\\"F$_{\\\\mathrm{th}}$=~\\\" + str(th) + r\\\"~Jy\\\\,ms\\\",\\n    )\\n    ax.set_yscale(\\\"log\\\")\";\n",
       "                var nbb_cells = Jupyter.notebook.get_cells();\n",
       "                for (var i = 0; i < nbb_cells.length; ++i) {\n",
       "                    if (nbb_cells[i].input_prompt_number == nbb_cell_id) {\n",
       "                        if (nbb_cells[i].get_text() == nbb_unformatted_code) {\n",
       "                             nbb_cells[i].set_text(nbb_formatted_code);\n",
       "                        }\n",
       "                        break;\n",
       "                    }\n",
       "                }\n",
       "            }, 500);\n",
       "            "
      ],
      "text/plain": [
       "<IPython.core.display.Javascript object>"
      ]
     },
     "metadata": {},
     "output_type": "display_data"
    }
   ],
   "source": [
    "# Plot energy histograms and print statistics of parameters\n",
    "def analyse_and_plot(bursts, detected, Es, ax, th):\n",
    "\n",
    "    qs = np.quantile(bursts[\"in_mu_f\"], [0.16, 0.5, 0.84])\n",
    "    print(f\"Injected mu_f is: {qs[1]:.3f}+{(qs[2] - qs[1]):.2f}-{(qs[1] - qs[0]):.2f}\")\n",
    "\n",
    "    qs = np.quantile(detected[\"in_mu_f\"], [0.16, 0.5, 0.84])\n",
    "    print(f\"Recovered mu_f is: {qs[1]:.3f}+{(qs[2] - qs[1]):.2f}-{(qs[1] - qs[0]):.2f}\")\n",
    "\n",
    "    qs = np.quantile(bursts[\"in_sig_f\"], [0.16, 0.5, 0.84])\n",
    "    print(f\"Injected sig_f is: {qs[1]:.2f}+{(qs[2] - qs[1]):.2f}-{(qs[1] - qs[0]):.2f}\")\n",
    "\n",
    "    qs = np.quantile(detected[\"in_sig_f\"], [0.16, 0.5, 0.84])\n",
    "    print(\n",
    "        f\"Recovered sig_f is: {qs[1]:.2f}+{(qs[2] - qs[1]):.2f}-{(qs[1] - qs[0]):.2f}\"\n",
    "    )\n",
    "\n",
    "    original_E = Es[\"original_E\"]\n",
    "    detected_snr_E = Es[\"detected_snr_E\"]\n",
    "    detected_fit_E = Es[\"detected_fit_E\"]\n",
    "    detected_in_band_E = Es[\"detected_in_band_E\"]\n",
    "\n",
    "    ax.hist(np.log10(original_E), bins=50, density=False, alpha=0.5)\n",
    "    ax.hist(\n",
    "        np.log10(detected_snr_E),\n",
    "        bins=50,\n",
    "        density=False,\n",
    "        alpha=0.5,\n",
    "        label=r\"F$_{\\mathrm{th}}$=~\" + str(th) + r\"~Jy\\,ms\",\n",
    "    )\n",
    "    ax.set_yscale(\"log\")"
   ]
  },
  {
   "cell_type": "code",
   "execution_count": null,
   "metadata": {},
   "outputs": [
    {
     "data": {
      "application/javascript": [
       "\n",
       "            setTimeout(function() {\n",
       "                var nbb_cell_id = 5;\n",
       "                var nbb_unformatted_code = \"thresholds = [0.02, 0.02 * 5, 0.02 * 10 * 2]\";\n",
       "                var nbb_formatted_code = \"thresholds = [0.02, 0.02 * 5, 0.02 * 10 * 2]\";\n",
       "                var nbb_cells = Jupyter.notebook.get_cells();\n",
       "                for (var i = 0; i < nbb_cells.length; ++i) {\n",
       "                    if (nbb_cells[i].input_prompt_number == nbb_cell_id) {\n",
       "                        if (nbb_cells[i].get_text() == nbb_unformatted_code) {\n",
       "                             nbb_cells[i].set_text(nbb_formatted_code);\n",
       "                        }\n",
       "                        break;\n",
       "                    }\n",
       "                }\n",
       "            }, 500);\n",
       "            "
      ],
      "text/plain": [
       "<IPython.core.display.Javascript object>"
      ]
     },
     "metadata": {},
     "output_type": "display_data"
    }
   ],
   "source": [
    "thresholds = [0.02, 0.02 * 5, 0.02 * 10 * 2]"
   ]
  },
  {
   "cell_type": "markdown",
   "metadata": {},
   "source": [
    "Run search on three thresholds and plot!"
   ]
  },
  {
   "cell_type": "code",
   "execution_count": null,
   "metadata": {
    "scrolled": true
   },
   "outputs": [
    {
     "name": "stdout",
     "output_type": "stream",
     "text": [
      "0.02\n",
      "44221 11947\n"
     ]
    },
    {
     "name": "stderr",
     "output_type": "stream",
     "text": [
      "/home/kshitij/anaconda3/envs/grbfrb/lib/python3.6/site-packages/ipykernel_launcher.py:17: RuntimeWarning: divide by zero encountered in log10\n",
      "/home/kshitij/anaconda3/envs/grbfrb/lib/python3.6/site-packages/ipykernel_launcher.py:17: RuntimeWarning: divide by zero encountered in log10\n",
      "/home/kshitij/anaconda3/envs/grbfrb/lib/python3.6/site-packages/ipykernel_launcher.py:17: RuntimeWarning: divide by zero encountered in log10\n",
      "/home/kshitij/anaconda3/envs/grbfrb/lib/python3.6/site-packages/ipykernel_launcher.py:100: UserWarning: FixedFormatter should only be used together with FixedLocator\n"
     ]
    },
    {
     "name": "stdout",
     "output_type": "stream",
     "text": [
      "Injected mu_f is: 1647.622+248.70-244.84\n",
      "Recovered mu_f is: 1577.379+185.38-211.22\n",
      "Injected sig_f is: 335.28+233.28-198.58\n",
      "Recovered sig_f is: 143.71+134.48-89.20\n",
      "0.1\n",
      "44221 2978\n"
     ]
    },
    {
     "name": "stderr",
     "output_type": "stream",
     "text": [
      "/home/kshitij/anaconda3/envs/grbfrb/lib/python3.6/site-packages/ipykernel_launcher.py:17: RuntimeWarning: divide by zero encountered in log10\n",
      "/home/kshitij/anaconda3/envs/grbfrb/lib/python3.6/site-packages/ipykernel_launcher.py:17: RuntimeWarning: divide by zero encountered in log10\n",
      "/home/kshitij/anaconda3/envs/grbfrb/lib/python3.6/site-packages/ipykernel_launcher.py:17: RuntimeWarning: divide by zero encountered in log10\n"
     ]
    },
    {
     "name": "stdout",
     "output_type": "stream",
     "text": [
      "Injected mu_f is: 1647.622+248.70-244.84\n",
      "Recovered mu_f is: 1543.204+164.84-195.52\n",
      "Injected sig_f is: 335.28+233.28-198.58\n",
      "Recovered sig_f is: 49.35+106.06-33.16\n",
      "0.4\n",
      "44221 818\n"
     ]
    },
    {
     "name": "stderr",
     "output_type": "stream",
     "text": [
      "/home/kshitij/anaconda3/envs/grbfrb/lib/python3.6/site-packages/ipykernel_launcher.py:100: UserWarning: FixedFormatter should only be used together with FixedLocator\n",
      "/home/kshitij/anaconda3/envs/grbfrb/lib/python3.6/site-packages/ipykernel_launcher.py:17: RuntimeWarning: divide by zero encountered in log10\n",
      "/home/kshitij/anaconda3/envs/grbfrb/lib/python3.6/site-packages/ipykernel_launcher.py:17: RuntimeWarning: divide by zero encountered in log10\n",
      "/home/kshitij/anaconda3/envs/grbfrb/lib/python3.6/site-packages/ipykernel_launcher.py:17: RuntimeWarning: divide by zero encountered in log10\n"
     ]
    },
    {
     "name": "stdout",
     "output_type": "stream",
     "text": [
      "Injected mu_f is: 1647.622+248.70-244.84\n",
      "Recovered mu_f is: 1531.710+175.27-202.40\n",
      "Injected sig_f is: 335.28+233.28-198.58\n",
      "Recovered sig_f is: 17.04+68.21-12.19\n"
     ]
    },
    {
     "name": "stderr",
     "output_type": "stream",
     "text": [
      "/home/kshitij/anaconda3/envs/grbfrb/lib/python3.6/site-packages/ipykernel_launcher.py:100: UserWarning: FixedFormatter should only be used together with FixedLocator\n",
      "findfont: Font family ['serif'] not found. Falling back to DejaVu Sans.\n"
     ]
    }
   ],
   "source": [
    "with plt.style.context([\"science\", \"grid\"]):  # , \"no-latex\"]):\n",
    "    fig, axes = plt.subplots(\n",
    "        2,\n",
    "        3,\n",
    "        figsize=set_size(width=\"full\", subplots=(2, 3), fraction=1.15),\n",
    "        sharey=\"row\",\n",
    "        sharex=False,\n",
    "    )\n",
    "    for i, th in enumerate(thresholds):\n",
    "        ax = axes[:, i]\n",
    "\n",
    "        print(th)\n",
    "        detected, detected_in_band_df, Es = run_search(\n",
    "            bursts,\n",
    "            fstart=974,\n",
    "            fend=1774,\n",
    "            fluence_threshold=th,\n",
    "            in_band_sig=3,\n",
    "            ret=\"all\",\n",
    "            distance=972,\n",
    "        )\n",
    "        print(len(bursts), len(detected))\n",
    "        #     analyse_and_plot(bursts, detected, Es)\n",
    "        original_E = Es[\"original_E\"]\n",
    "        detected_snr_E = Es[\"detected_snr_E\"]\n",
    "        detected_fit_E = Es[\"detected_fit_E\"]\n",
    "        detected_in_band_E = Es[\"detected_in_band_E\"]\n",
    "\n",
    "        #     plt.figure(figsize=(10, 6))\n",
    "\n",
    "        fit_vals = {}\n",
    "        fit_vals[\"orig\"] = fit_and_plot(\n",
    "            original_E,\n",
    "            ax[1],\n",
    "            plot_fit=False,\n",
    "            plot_orig=True,\n",
    "            single_law=False,\n",
    "            double_law=False,\n",
    "            color=\"r\",\n",
    "            #             label=\"Injected\",\n",
    "        )\n",
    "\n",
    "        fit_vals[\"detected-snr\"] = fit_and_plot(\n",
    "            detected_snr_E,\n",
    "            ax[1],\n",
    "            plot_fit=True,\n",
    "            plot_orig=True,\n",
    "            single_law=False,\n",
    "            double_law=True,\n",
    "            color=\"g\",\n",
    "            label=\"snr\",\n",
    "        )\n",
    "\n",
    "        if i == 0:\n",
    "            double_law = False\n",
    "        else:\n",
    "            double_law = True\n",
    "\n",
    "        fit_vals[\"detected-fit\"] = fit_and_plot(\n",
    "            detected_fit_E,\n",
    "            ax[1],\n",
    "            plot_fit=True,\n",
    "            plot_orig=True,\n",
    "            single_law=False,\n",
    "            double_law=True,\n",
    "            color=\"b\",\n",
    "            label=\"fit\",\n",
    "        )\n",
    "\n",
    "        if i == 1 or i == 2:\n",
    "            single_law = False\n",
    "        else:\n",
    "            single_law = True\n",
    "\n",
    "        fit_vals[\"detected-in-band\"] = fit_and_plot(\n",
    "            detected_in_band_E,\n",
    "            ax[1],\n",
    "            plot_fit=True,\n",
    "            plot_orig=True,\n",
    "            single_law=single_law,\n",
    "            double_law=double_law,\n",
    "            color=\"c\",\n",
    "            label=\"fit-in-band\",\n",
    "        )\n",
    "        legend = ax[1].legend(fontsize=\"small\")  # loc=\"lower left\")\n",
    "        legend.get_frame().set_alpha(0.5)\n",
    "\n",
    "        analyse_and_plot(bursts, detected, Es, ax[0], th)\n",
    "\n",
    "        #     if i == 2:\n",
    "        #         ax[0].set_xlabel(\"Energy (erg)\")\n",
    "        if i == 0:\n",
    "            ax[1].set_ylabel(r\"log$_{10}$(N($>$E))\")\n",
    "\n",
    "        if i == 0:\n",
    "            ax[0].set_ylabel(r\"N\")\n",
    "\n",
    "        #     labels = [str(10 ** item._x) for item in ax[1].get_xticklabels()]\n",
    "        labels = [item._text for item in ax[1].get_xticklabels()]\n",
    "        ax[0].set_xticklabels(labels)\n",
    "        ax[0].legend()  # set_title(f\"Fluence={th}Jyms\")\n",
    "\n",
    "        legend = ax[0].legend(fontsize=\"small\")  # loc=\"lower left\")\n",
    "        legend.get_frame().set_alpha(0.5)\n",
    "\n",
    "        ax[1].set_xlabel(\"Energy (erg)\")\n",
    "\n",
    "    plt.subplots_adjust(wspace=0.01, hspace=0.01)\n",
    "\n",
    "    plt.tight_layout()\n",
    "    plt.savefig(\"energy_pdf_cdf.png\", bbox_inches=\"tight\", dpi=300)"
   ]
  }
 ],
 "metadata": {
  "kernelspec": {
   "display_name": "Python 3",
   "language": "python",
   "name": "python3"
  },
  "language_info": {
   "codemirror_mode": {
    "name": "ipython",
    "version": 3
   },
   "file_extension": ".py",
   "mimetype": "text/x-python",
   "name": "python",
   "nbconvert_exporter": "python",
   "pygments_lexer": "ipython3",
   "version": "3.6.8"
  }
 },
 "nbformat": 4,
 "nbformat_minor": 2
}
