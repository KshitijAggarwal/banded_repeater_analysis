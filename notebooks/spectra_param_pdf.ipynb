{
 "cells": [
  {
   "cell_type": "code",
   "execution_count": 1,
   "metadata": {},
   "outputs": [
    {
     "data": {
      "application/javascript": [
       "\n",
       "            setTimeout(function() {\n",
       "                var nbb_cell_id = 1;\n",
       "                var nbb_unformatted_code = \"import numpy as np\\nimport pylab as plt\\nimport pandas as pd\\nimport glob\\nimport sys\\n\\nsys.path.append(\\\"../\\\")\\nfrom simulate import gen_bursts, run_search, analyse_and_plot\\nfrom utils import *\\nfrom plotting import set_size\\n\\n%matplotlib inline\\n%load_ext nb_black\";\n",
       "                var nbb_formatted_code = \"import numpy as np\\nimport pylab as plt\\nimport pandas as pd\\nimport glob\\nimport sys\\n\\nsys.path.append(\\\"../\\\")\\nfrom simulate import gen_bursts, run_search, analyse_and_plot\\nfrom utils import *\\nfrom plotting import set_size\\n\\n%matplotlib inline\\n%load_ext nb_black\";\n",
       "                var nbb_cells = Jupyter.notebook.get_cells();\n",
       "                for (var i = 0; i < nbb_cells.length; ++i) {\n",
       "                    if (nbb_cells[i].input_prompt_number == nbb_cell_id) {\n",
       "                        if (nbb_cells[i].get_text() == nbb_unformatted_code) {\n",
       "                             nbb_cells[i].set_text(nbb_formatted_code);\n",
       "                        }\n",
       "                        break;\n",
       "                    }\n",
       "                }\n",
       "            }, 500);\n",
       "            "
      ],
      "text/plain": [
       "<IPython.core.display.Javascript object>"
      ]
     },
     "metadata": {},
     "output_type": "display_data"
    }
   ],
   "source": [
    "import numpy as np\n",
    "import pylab as plt\n",
    "import pandas as pd\n",
    "import glob\n",
    "import sys\n",
    "\n",
    "sys.path.append(\"../\")\n",
    "from simulate import gen_bursts, run_search, analyse_and_plot\n",
    "from utils import *\n",
    "from plotting import set_size\n",
    "\n",
    "%matplotlib inline\n",
    "%load_ext nb_black"
   ]
  },
  {
   "cell_type": "markdown",
   "metadata": {},
   "source": [
    "Simulate bursts"
   ]
  },
  {
   "cell_type": "code",
   "execution_count": 2,
   "metadata": {},
   "outputs": [
    {
     "data": {
      "application/javascript": [
       "\n",
       "            setTimeout(function() {\n",
       "                var nbb_cell_id = 2;\n",
       "                var nbb_unformatted_code = \"# FRB121102 with some nominal parameters\\nnp.random.seed(1996)\\n\\nbursts_norm, name = gen_bursts(\\n    mu_params=[1650, 250],\\n    sigma_params=[300, 250],\\n    mu_dist=\\\"norm\\\",\\n    sigma_dist=\\\"norm\\\",\\n    N=10000,\\n    alpha=-1.5,\\n    E_min_log=37,\\n    E_max_log=42,\\n    save=False,\\n)\\n\\nbursts_unif, name = gen_bursts(\\n    mu_params=[800, 2200],\\n    sigma_params=[50, 500],\\n    mu_dist=\\\"uniform\\\",\\n    sigma_dist=\\\"uniform\\\",\\n    N=10000,\\n    alpha=-1.5,\\n    E_min_log=37,\\n    E_max_log=42,\\n    save=False,\\n)\";\n",
       "                var nbb_formatted_code = \"# FRB121102 with some nominal parameters\\nnp.random.seed(1996)\\n\\nbursts_norm, name = gen_bursts(\\n    mu_params=[1650, 250],\\n    sigma_params=[300, 250],\\n    mu_dist=\\\"norm\\\",\\n    sigma_dist=\\\"norm\\\",\\n    N=10000,\\n    alpha=-1.5,\\n    E_min_log=37,\\n    E_max_log=42,\\n    save=False,\\n)\\n\\nbursts_unif, name = gen_bursts(\\n    mu_params=[800, 2200],\\n    sigma_params=[50, 500],\\n    mu_dist=\\\"uniform\\\",\\n    sigma_dist=\\\"uniform\\\",\\n    N=10000,\\n    alpha=-1.5,\\n    E_min_log=37,\\n    E_max_log=42,\\n    save=False,\\n)\";\n",
       "                var nbb_cells = Jupyter.notebook.get_cells();\n",
       "                for (var i = 0; i < nbb_cells.length; ++i) {\n",
       "                    if (nbb_cells[i].input_prompt_number == nbb_cell_id) {\n",
       "                        if (nbb_cells[i].get_text() == nbb_unformatted_code) {\n",
       "                             nbb_cells[i].set_text(nbb_formatted_code);\n",
       "                        }\n",
       "                        break;\n",
       "                    }\n",
       "                }\n",
       "            }, 500);\n",
       "            "
      ],
      "text/plain": [
       "<IPython.core.display.Javascript object>"
      ]
     },
     "metadata": {},
     "output_type": "display_data"
    }
   ],
   "source": [
    "# FRB121102 with some nominal parameters\n",
    "np.random.seed(1996)\n",
    "\n",
    "bursts_norm, name = gen_bursts(\n",
    "    mu_params=[1650, 250],\n",
    "    sigma_params=[300, 250],\n",
    "    mu_dist=\"norm\",\n",
    "    sigma_dist=\"norm\",\n",
    "    N=10000,\n",
    "    alpha=-1.5,\n",
    "    E_min_log=37,\n",
    "    E_max_log=42,\n",
    "    save=False,\n",
    ")\n",
    "\n",
    "bursts_unif, name = gen_bursts(\n",
    "    mu_params=[800, 2200],\n",
    "    sigma_params=[50, 500],\n",
    "    mu_dist=\"uniform\",\n",
    "    sigma_dist=\"uniform\",\n",
    "    N=10000,\n",
    "    alpha=-1.5,\n",
    "    E_min_log=37,\n",
    "    E_max_log=42,\n",
    "    save=False,\n",
    ")"
   ]
  },
  {
   "cell_type": "code",
   "execution_count": 3,
   "metadata": {},
   "outputs": [
    {
     "data": {
      "application/javascript": [
       "\n",
       "            setTimeout(function() {\n",
       "                var nbb_cell_id = 3;\n",
       "                var nbb_unformatted_code = \"thresholds = [0.02, 0.02 * 5]\\nc = [\\\"red\\\", \\\"blue\\\", \\\"green\\\"]\";\n",
       "                var nbb_formatted_code = \"thresholds = [0.02, 0.02 * 5]\\nc = [\\\"red\\\", \\\"blue\\\", \\\"green\\\"]\";\n",
       "                var nbb_cells = Jupyter.notebook.get_cells();\n",
       "                for (var i = 0; i < nbb_cells.length; ++i) {\n",
       "                    if (nbb_cells[i].input_prompt_number == nbb_cell_id) {\n",
       "                        if (nbb_cells[i].get_text() == nbb_unformatted_code) {\n",
       "                             nbb_cells[i].set_text(nbb_formatted_code);\n",
       "                        }\n",
       "                        break;\n",
       "                    }\n",
       "                }\n",
       "            }, 500);\n",
       "            "
      ],
      "text/plain": [
       "<IPython.core.display.Javascript object>"
      ]
     },
     "metadata": {},
     "output_type": "display_data"
    }
   ],
   "source": [
    "thresholds = [0.02, 0.02 * 5]\n",
    "c = [\"red\", \"blue\", \"green\"]"
   ]
  },
  {
   "cell_type": "markdown",
   "metadata": {},
   "source": [
    "Run search with two thresholds and plot the parameter distribution"
   ]
  },
  {
   "cell_type": "code",
   "execution_count": 4,
   "metadata": {
    "scrolled": false
   },
   "outputs": [
    {
     "name": "stdout",
     "output_type": "stream",
     "text": [
      "0.02\n",
      "8889 2414\n",
      "10000 3026\n",
      "0.1\n",
      "8889 601\n",
      "10000 434\n"
     ]
    },
    {
     "name": "stderr",
     "output_type": "stream",
     "text": [
      "findfont: Font family ['serif'] not found. Falling back to DejaVu Sans.\n"
     ]
    },
    {
     "data": {
      "image/png": "[encoded data removed]",
      "text/plain": [
       "<Figure size 511.2x315.939 with 4 Axes>"
      ]
     },
     "metadata": {
      "needs_background": "light"
     },
     "output_type": "display_data"
    },
    {
     "data": {
      "application/javascript": [
       "\n",
       "            setTimeout(function() {\n",
       "                var nbb_cell_id = 4;\n",
       "                var nbb_unformatted_code = \"with plt.style.context([\\\"science\\\", \\\"grid\\\"]):  # , \\\"no-latex\\\"]):\\n    fig, axes = plt.subplots(\\n        2,\\n        2,\\n        figsize=set_size(width=\\\"full\\\", subplots=(2, 2)),\\n        sharey=\\\"row\\\",\\n        sharex=\\\"col\\\",\\n    )\\n    for i, th in enumerate(thresholds):\\n        #     ax = axes[i]\\n        print(th)\\n        detected_norm, detected_in_band_df, Es = run_search(\\n            bursts_norm,\\n            fstart=974,\\n            fend=1774,\\n            fluence_threshold=th,\\n            in_band_sig=3,\\n            ret=\\\"all\\\",\\n            distance=972,\\n        )\\n        print(len(bursts_norm), len(detected_norm))\\n\\n        density = False\\n        injected_color = \\\"orange\\\"\\n        nbins_mu = 30\\n\\n        if i == 0:\\n            v, bins_mu_f_norm, _ = axes[0, 0].hist(\\n                bursts_norm[\\\"in_mu_f\\\"],\\n                alpha=0.5,\\n                density=density,\\n                label=\\\"Injected\\\",\\n                color=injected_color,\\n                bins=nbins_mu,\\n            )\\n        axes[0, 0].hist(\\n            detected_norm[\\\"in_mu_f\\\"],\\n            alpha=0.5,\\n            density=density,\\n            label=r\\\"F$_{\\\\mathrm{th}}$:~\\\" + str(th) + r\\\"~Jy\\\\,ms\\\",\\n            bins=bins_mu_f_norm,\\n            color=c[i],\\n        )\\n\\n        if i == 0:\\n            v, bins_sigma_f_norm, _ = axes[0, 1].hist(\\n                bursts_norm[\\\"in_sig_f\\\"],\\n                alpha=0.5,\\n                density=density,\\n                bins=30,\\n                label=\\\"Injected\\\",\\n                color=injected_color,\\n            )\\n\\n        axes[0, 1].hist(\\n            detected_norm[\\\"in_sig_f\\\"],\\n            alpha=0.5,\\n            density=density,\\n            label=f\\\"Detected (th: {th}Jyms)\\\",\\n            bins=bins_sigma_f_norm,\\n            color=c[i],\\n        )\\n\\n        # Now for uniform input\\n        detected_unif, detected_in_band_df, Es = run_search(\\n            bursts_unif,\\n            fstart=974,\\n            fend=1774,\\n            fluence_threshold=th,\\n            in_band_sig=3,\\n            ret=\\\"all\\\",\\n            distance=972,\\n        )\\n        print(len(bursts_unif), len(detected_unif))\\n\\n        if i == 0:\\n            v, bins_mu_f_unif, _ = axes[1, 0].hist(\\n                bursts_unif[\\\"in_mu_f\\\"],\\n                alpha=0.5,\\n                density=density,\\n                label=\\\"in\\\",\\n                color=injected_color,\\n                bins=nbins_mu,\\n            )\\n        axes[1, 0].hist(\\n            detected_unif[\\\"in_mu_f\\\"],\\n            alpha=0.5,\\n            density=density,\\n            label=\\\"detected\\\",\\n            bins=bins_mu_f_unif,\\n            color=c[i],\\n        )\\n\\n        if i == 0:\\n            v, bins_sigma_f_unif, _ = axes[1, 1].hist(\\n                bursts_unif[\\\"in_sig_f\\\"],\\n                alpha=0.5,\\n                density=density,\\n                bins=30,\\n                label=\\\"in\\\",\\n                color=injected_color,\\n            )\\n\\n        axes[1, 1].hist(\\n            detected_unif[\\\"in_sig_f\\\"],\\n            alpha=0.5,\\n            density=density,\\n            label=\\\"detected\\\",\\n            bins=bins_sigma_f_unif,\\n            color=c[i],\\n        )\\n\\n    axes[0, 0].set_xlim([800, 2200])\\n    axes[1, 0].set_xlim([800, 2200])\\n\\n    axes[0, 1].set_xlim([0, 750])\\n    axes[1, 1].set_xlim([0, 750])\\n\\n    axes[0, 0].axvline(x=974, linestyle=\\\"--\\\", c=\\\"k\\\")\\n    axes[0, 0].axvline(x=1774, linestyle=\\\"--\\\", c=\\\"k\\\")\\n    axes[1, 0].axvline(x=974, linestyle=\\\"--\\\", c=\\\"k\\\")\\n    axes[1, 0].axvline(x=1774, linestyle=\\\"--\\\", c=\\\"k\\\")\\n\\n    legend = axes[0, 0].legend()\\n    legend.get_frame().set_alpha(0.5)\\n    axes[0, 0].set_ylabel(r\\\"N\\\")\\n    axes[1, 0].set_ylabel(r\\\"N\\\")\\n\\n    axes[1, 0].set_xlabel(r\\\"$\\\\mu_f$ (MHz)\\\")\\n    axes[1, 1].set_xlabel(r\\\"$\\\\sigma_f$ (MHz)\\\")\\n    plt.tight_layout(w_pad=1.5)\\n    plt.savefig(\\\"spectra_param_pdf.pdf\\\", bbox_inches=\\\"tight\\\", dpi=300)\";\n",
       "                var nbb_formatted_code = \"with plt.style.context([\\\"science\\\", \\\"grid\\\"]):  # , \\\"no-latex\\\"]):\\n    fig, axes = plt.subplots(\\n        2,\\n        2,\\n        figsize=set_size(width=\\\"full\\\", subplots=(2, 2)),\\n        sharey=\\\"row\\\",\\n        sharex=\\\"col\\\",\\n    )\\n    for i, th in enumerate(thresholds):\\n        #     ax = axes[i]\\n        print(th)\\n        detected_norm, detected_in_band_df, Es = run_search(\\n            bursts_norm,\\n            fstart=974,\\n            fend=1774,\\n            fluence_threshold=th,\\n            in_band_sig=3,\\n            ret=\\\"all\\\",\\n            distance=972,\\n        )\\n        print(len(bursts_norm), len(detected_norm))\\n\\n        density = False\\n        injected_color = \\\"orange\\\"\\n        nbins_mu = 30\\n\\n        if i == 0:\\n            v, bins_mu_f_norm, _ = axes[0, 0].hist(\\n                bursts_norm[\\\"in_mu_f\\\"],\\n                alpha=0.5,\\n                density=density,\\n                label=\\\"Injected\\\",\\n                color=injected_color,\\n                bins=nbins_mu,\\n            )\\n        axes[0, 0].hist(\\n            detected_norm[\\\"in_mu_f\\\"],\\n            alpha=0.5,\\n            density=density,\\n            label=r\\\"F$_{\\\\mathrm{th}}$:~\\\" + str(th) + r\\\"~Jy\\\\,ms\\\",\\n            bins=bins_mu_f_norm,\\n            color=c[i],\\n        )\\n\\n        if i == 0:\\n            v, bins_sigma_f_norm, _ = axes[0, 1].hist(\\n                bursts_norm[\\\"in_sig_f\\\"],\\n                alpha=0.5,\\n                density=density,\\n                bins=30,\\n                label=\\\"Injected\\\",\\n                color=injected_color,\\n            )\\n\\n        axes[0, 1].hist(\\n            detected_norm[\\\"in_sig_f\\\"],\\n            alpha=0.5,\\n            density=density,\\n            label=f\\\"Detected (th: {th}Jyms)\\\",\\n            bins=bins_sigma_f_norm,\\n            color=c[i],\\n        )\\n\\n        # Now for uniform input\\n        detected_unif, detected_in_band_df, Es = run_search(\\n            bursts_unif,\\n            fstart=974,\\n            fend=1774,\\n            fluence_threshold=th,\\n            in_band_sig=3,\\n            ret=\\\"all\\\",\\n            distance=972,\\n        )\\n        print(len(bursts_unif), len(detected_unif))\\n\\n        if i == 0:\\n            v, bins_mu_f_unif, _ = axes[1, 0].hist(\\n                bursts_unif[\\\"in_mu_f\\\"],\\n                alpha=0.5,\\n                density=density,\\n                label=\\\"in\\\",\\n                color=injected_color,\\n                bins=nbins_mu,\\n            )\\n        axes[1, 0].hist(\\n            detected_unif[\\\"in_mu_f\\\"],\\n            alpha=0.5,\\n            density=density,\\n            label=\\\"detected\\\",\\n            bins=bins_mu_f_unif,\\n            color=c[i],\\n        )\\n\\n        if i == 0:\\n            v, bins_sigma_f_unif, _ = axes[1, 1].hist(\\n                bursts_unif[\\\"in_sig_f\\\"],\\n                alpha=0.5,\\n                density=density,\\n                bins=30,\\n                label=\\\"in\\\",\\n                color=injected_color,\\n            )\\n\\n        axes[1, 1].hist(\\n            detected_unif[\\\"in_sig_f\\\"],\\n            alpha=0.5,\\n            density=density,\\n            label=\\\"detected\\\",\\n            bins=bins_sigma_f_unif,\\n            color=c[i],\\n        )\\n\\n    axes[0, 0].set_xlim([800, 2200])\\n    axes[1, 0].set_xlim([800, 2200])\\n\\n    axes[0, 1].set_xlim([0, 750])\\n    axes[1, 1].set_xlim([0, 750])\\n\\n    axes[0, 0].axvline(x=974, linestyle=\\\"--\\\", c=\\\"k\\\")\\n    axes[0, 0].axvline(x=1774, linestyle=\\\"--\\\", c=\\\"k\\\")\\n    axes[1, 0].axvline(x=974, linestyle=\\\"--\\\", c=\\\"k\\\")\\n    axes[1, 0].axvline(x=1774, linestyle=\\\"--\\\", c=\\\"k\\\")\\n\\n    legend = axes[0, 0].legend()\\n    legend.get_frame().set_alpha(0.5)\\n    axes[0, 0].set_ylabel(r\\\"N\\\")\\n    axes[1, 0].set_ylabel(r\\\"N\\\")\\n\\n    axes[1, 0].set_xlabel(r\\\"$\\\\mu_f$ (MHz)\\\")\\n    axes[1, 1].set_xlabel(r\\\"$\\\\sigma_f$ (MHz)\\\")\\n    plt.tight_layout(w_pad=1.5)\\n    plt.savefig(\\\"spectra_param_pdf.pdf\\\", bbox_inches=\\\"tight\\\", dpi=300)\";\n",
       "                var nbb_cells = Jupyter.notebook.get_cells();\n",
       "                for (var i = 0; i < nbb_cells.length; ++i) {\n",
       "                    if (nbb_cells[i].input_prompt_number == nbb_cell_id) {\n",
       "                        if (nbb_cells[i].get_text() == nbb_unformatted_code) {\n",
       "                             nbb_cells[i].set_text(nbb_formatted_code);\n",
       "                        }\n",
       "                        break;\n",
       "                    }\n",
       "                }\n",
       "            }, 500);\n",
       "            "
      ],
      "text/plain": [
       "<IPython.core.display.Javascript object>"
      ]
     },
     "metadata": {},
     "output_type": "display_data"
    }
   ],
   "source": [
    "with plt.style.context([\"science\", \"grid\"]):  # , \"no-latex\"]):\n",
    "    fig, axes = plt.subplots(\n",
    "        2,\n",
    "        2,\n",
    "        figsize=set_size(width=\"full\", subplots=(2, 2)),\n",
    "        sharey=\"row\",\n",
    "        sharex=\"col\",\n",
    "    )\n",
    "    for i, th in enumerate(thresholds):\n",
    "        #     ax = axes[i]\n",
    "        print(th)\n",
    "        detected_norm, detected_in_band_df, Es = run_search(\n",
    "            bursts_norm,\n",
    "            fstart=974,\n",
    "            fend=1774,\n",
    "            fluence_threshold=th,\n",
    "            in_band_sig=3,\n",
    "            ret=\"all\",\n",
    "            distance=972,\n",
    "        )\n",
    "        print(len(bursts_norm), len(detected_norm))\n",
    "\n",
    "        density = False\n",
    "        injected_color = \"orange\"\n",
    "        nbins_mu = 30\n",
    "\n",
    "        if i == 0:\n",
    "            v, bins_mu_f_norm, _ = axes[0, 0].hist(\n",
    "                bursts_norm[\"in_mu_f\"],\n",
    "                alpha=0.5,\n",
    "                density=density,\n",
    "                label=\"Injected\",\n",
    "                color=injected_color,\n",
    "                bins=nbins_mu,\n",
    "            )\n",
    "        axes[0, 0].hist(\n",
    "            detected_norm[\"in_mu_f\"],\n",
    "            alpha=0.5,\n",
    "            density=density,\n",
    "            label=r\"F$_{\\mathrm{th}}$:~\" + str(th) + r\"~Jy\\,ms\",\n",
    "            bins=bins_mu_f_norm,\n",
    "            color=c[i],\n",
    "        )\n",
    "\n",
    "        if i == 0:\n",
    "            v, bins_sigma_f_norm, _ = axes[0, 1].hist(\n",
    "                bursts_norm[\"in_sig_f\"],\n",
    "                alpha=0.5,\n",
    "                density=density,\n",
    "                bins=30,\n",
    "                label=\"Injected\",\n",
    "                color=injected_color,\n",
    "            )\n",
    "\n",
    "        axes[0, 1].hist(\n",
    "            detected_norm[\"in_sig_f\"],\n",
    "            alpha=0.5,\n",
    "            density=density,\n",
    "            label=f\"Detected (th: {th}Jyms)\",\n",
    "            bins=bins_sigma_f_norm,\n",
    "            color=c[i],\n",
    "        )\n",
    "\n",
    "        # Now for uniform input\n",
    "        detected_unif, detected_in_band_df, Es = run_search(\n",
    "            bursts_unif,\n",
    "            fstart=974,\n",
    "            fend=1774,\n",
    "            fluence_threshold=th,\n",
    "            in_band_sig=3,\n",
    "            ret=\"all\",\n",
    "            distance=972,\n",
    "        )\n",
    "        print(len(bursts_unif), len(detected_unif))\n",
    "\n",
    "        if i == 0:\n",
    "            v, bins_mu_f_unif, _ = axes[1, 0].hist(\n",
    "                bursts_unif[\"in_mu_f\"],\n",
    "                alpha=0.5,\n",
    "                density=density,\n",
    "                label=\"in\",\n",
    "                color=injected_color,\n",
    "                bins=nbins_mu,\n",
    "            )\n",
    "        axes[1, 0].hist(\n",
    "            detected_unif[\"in_mu_f\"],\n",
    "            alpha=0.5,\n",
    "            density=density,\n",
    "            label=\"detected\",\n",
    "            bins=bins_mu_f_unif,\n",
    "            color=c[i],\n",
    "        )\n",
    "\n",
    "        if i == 0:\n",
    "            v, bins_sigma_f_unif, _ = axes[1, 1].hist(\n",
    "                bursts_unif[\"in_sig_f\"],\n",
    "                alpha=0.5,\n",
    "                density=density,\n",
    "                bins=30,\n",
    "                label=\"in\",\n",
    "                color=injected_color,\n",
    "            )\n",
    "\n",
    "        axes[1, 1].hist(\n",
    "            detected_unif[\"in_sig_f\"],\n",
    "            alpha=0.5,\n",
    "            density=density,\n",
    "            label=\"detected\",\n",
    "            bins=bins_sigma_f_unif,\n",
    "            color=c[i],\n",
    "        )\n",
    "\n",
    "    axes[0, 0].set_xlim([800, 2200])\n",
    "    axes[1, 0].set_xlim([800, 2200])\n",
    "\n",
    "    axes[0, 1].set_xlim([0, 750])\n",
    "    axes[1, 1].set_xlim([0, 750])\n",
    "\n",
    "    axes[0, 0].axvline(x=974, linestyle=\"--\", c=\"k\")\n",
    "    axes[0, 0].axvline(x=1774, linestyle=\"--\", c=\"k\")\n",
    "    axes[1, 0].axvline(x=974, linestyle=\"--\", c=\"k\")\n",
    "    axes[1, 0].axvline(x=1774, linestyle=\"--\", c=\"k\")\n",
    "\n",
    "    legend = axes[0, 0].legend()\n",
    "    legend.get_frame().set_alpha(0.5)\n",
    "    axes[0, 0].set_ylabel(r\"N\")\n",
    "    axes[1, 0].set_ylabel(r\"N\")\n",
    "\n",
    "    axes[1, 0].set_xlabel(r\"$\\mu_f$ (MHz)\")\n",
    "    axes[1, 1].set_xlabel(r\"$\\sigma_f$ (MHz)\")\n",
    "    plt.tight_layout(w_pad=1.5)\n",
    "    plt.savefig(\"spectra_param_pdf.pdf\", bbox_inches=\"tight\", dpi=300)"
   ]
  },
  {
   "cell_type": "code",
   "execution_count": null,
   "metadata": {},
   "outputs": [],
   "source": []
  }
 ],
 "metadata": {
  "kernelspec": {
   "display_name": "Python 3",
   "language": "python",
   "name": "python3"
  },
  "language_info": {
   "codemirror_mode": {
    "name": "ipython",
    "version": 3
   },
   "file_extension": ".py",
   "mimetype": "text/x-python",
   "name": "python",
   "nbconvert_exporter": "python",
   "pygments_lexer": "ipython3",
   "version": "3.6.8"
  }
 },
 "nbformat": 4,
 "nbformat_minor": 2
}
