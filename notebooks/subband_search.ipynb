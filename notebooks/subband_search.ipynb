{
 "cells": [
  {
   "cell_type": "code",
   "execution_count": 1,
   "metadata": {},
   "outputs": [
    {
     "data": {
      "application/javascript": [
       "\n",
       "            setTimeout(function() {\n",
       "                var nbb_cell_id = 1;\n",
       "                var nbb_unformatted_code = \"import numpy as np\\nimport pylab as plt\\nimport pandas as pd\\nimport glob\\nimport sys\\n\\nsys.path.append(\\\"../\\\")\\nfrom utils_new import gen_bursts, run_search, analyse_and_plot, fit_and_plot\\nfrom utils import *\\nfrom plotting import set_size\\n\\n%matplotlib inline\\n%load_ext nb_black\";\n",
       "                var nbb_formatted_code = \"import numpy as np\\nimport pylab as plt\\nimport pandas as pd\\nimport glob\\nimport sys\\n\\nsys.path.append(\\\"../\\\")\\nfrom utils_new import gen_bursts, run_search, analyse_and_plot, fit_and_plot\\nfrom utils import *\\nfrom plotting import set_size\\n\\n%matplotlib inline\\n%load_ext nb_black\";\n",
       "                var nbb_cells = Jupyter.notebook.get_cells();\n",
       "                for (var i = 0; i < nbb_cells.length; ++i) {\n",
       "                    if (nbb_cells[i].input_prompt_number == nbb_cell_id) {\n",
       "                        if (nbb_cells[i].get_text() == nbb_unformatted_code) {\n",
       "                             nbb_cells[i].set_text(nbb_formatted_code);\n",
       "                        }\n",
       "                        break;\n",
       "                    }\n",
       "                }\n",
       "            }, 500);\n",
       "            "
      ],
      "text/plain": [
       "<IPython.core.display.Javascript object>"
      ]
     },
     "metadata": {},
     "output_type": "display_data"
    }
   ],
   "source": [
    "import numpy as np\n",
    "import pylab as plt\n",
    "import pandas as pd\n",
    "import glob\n",
    "import sys\n",
    "\n",
    "sys.path.append(\"../\")\n",
    "from utils_new import gen_bursts, run_search, analyse_and_plot, fit_and_plot\n",
    "from utils import *\n",
    "from plotting import set_size\n",
    "\n",
    "%matplotlib inline\n",
    "%load_ext nb_black"
   ]
  },
  {
   "cell_type": "code",
   "execution_count": 2,
   "metadata": {},
   "outputs": [
    {
     "data": {
      "application/javascript": [
       "\n",
       "            setTimeout(function() {\n",
       "                var nbb_cell_id = 2;\n",
       "                var nbb_unformatted_code = \"# FRB121102 with some nominal parameters\\nbursts, name = gen_bursts(\\n    mu_params=[1650, 250],  # sigma_params=[450, 200],\\n    sigma_params=[300, 250],\\n    mu_dist=\\\"norm\\\",\\n    sigma_dist=\\\"norm\\\",\\n    N=50000,\\n    alpha=-1.5,\\n    E_min_log=37,\\n    E_max_log=42,\\n    save=False,\\n)\";\n",
       "                var nbb_formatted_code = \"# FRB121102 with some nominal parameters\\nbursts, name = gen_bursts(\\n    mu_params=[1650, 250],  # sigma_params=[450, 200],\\n    sigma_params=[300, 250],\\n    mu_dist=\\\"norm\\\",\\n    sigma_dist=\\\"norm\\\",\\n    N=50000,\\n    alpha=-1.5,\\n    E_min_log=37,\\n    E_max_log=42,\\n    save=False,\\n)\";\n",
       "                var nbb_cells = Jupyter.notebook.get_cells();\n",
       "                for (var i = 0; i < nbb_cells.length; ++i) {\n",
       "                    if (nbb_cells[i].input_prompt_number == nbb_cell_id) {\n",
       "                        if (nbb_cells[i].get_text() == nbb_unformatted_code) {\n",
       "                             nbb_cells[i].set_text(nbb_formatted_code);\n",
       "                        }\n",
       "                        break;\n",
       "                    }\n",
       "                }\n",
       "            }, 500);\n",
       "            "
      ],
      "text/plain": [
       "<IPython.core.display.Javascript object>"
      ]
     },
     "metadata": {},
     "output_type": "display_data"
    }
   ],
   "source": [
    "# FRB121102 with some nominal parameters\n",
    "bursts, name = gen_bursts(\n",
    "    mu_params=[1650, 250],  # sigma_params=[450, 200],\n",
    "    sigma_params=[300, 250],\n",
    "    mu_dist=\"norm\",\n",
    "    sigma_dist=\"norm\",\n",
    "    N=50000,\n",
    "    alpha=-1.5,\n",
    "    E_min_log=37,\n",
    "    E_max_log=42,\n",
    "    save=False,\n",
    ")"
   ]
  },
  {
   "cell_type": "code",
   "execution_count": 28,
   "metadata": {},
   "outputs": [
    {
     "data": {
      "application/javascript": [
       "\n",
       "            setTimeout(function() {\n",
       "                var nbb_cell_id = 28;\n",
       "                var nbb_unformatted_code = \"thresholds = [0.02, 0.02 * 5, 0.02 * 10 * 2]\";\n",
       "                var nbb_formatted_code = \"thresholds = [0.02, 0.02 * 5, 0.02 * 10 * 2]\";\n",
       "                var nbb_cells = Jupyter.notebook.get_cells();\n",
       "                for (var i = 0; i < nbb_cells.length; ++i) {\n",
       "                    if (nbb_cells[i].input_prompt_number == nbb_cell_id) {\n",
       "                        if (nbb_cells[i].get_text() == nbb_unformatted_code) {\n",
       "                             nbb_cells[i].set_text(nbb_formatted_code);\n",
       "                        }\n",
       "                        break;\n",
       "                    }\n",
       "                }\n",
       "            }, 500);\n",
       "            "
      ],
      "text/plain": [
       "<IPython.core.display.Javascript object>"
      ]
     },
     "metadata": {},
     "output_type": "display_data"
    }
   ],
   "source": [
    "thresholds = [0.02, 0.02 * 5, 0.02 * 10 * 2]"
   ]
  },
  {
   "cell_type": "code",
   "execution_count": 30,
   "metadata": {},
   "outputs": [
    {
     "name": "stdout",
     "output_type": "stream",
     "text": [
      "0.02 4.0859487353015815\n",
      "0.1 15.688996876084692\n",
      "0.4 41.42678347934919\n"
     ]
    },
    {
     "data": {
      "application/javascript": [
       "\n",
       "            setTimeout(function() {\n",
       "                var nbb_cell_id = 30;\n",
       "                var nbb_unformatted_code = \"for th in thresholds:\\n    detected, detected_in_band_df, Es = run_search(\\n        bursts,\\n        fstart=974,\\n        fend=1774,\\n        fluence_threshold=th,\\n        in_band_sig=3,\\n        ret=\\\"all\\\",\\n        distance=972,\\n    )\\n\\n    detected_1, detected_in_band_df, Es = run_search(\\n        bursts,\\n        fstart=974,\\n        fend=974 + 200,\\n        fluence_threshold=th / np.sqrt(800 / 200),\\n        in_band_sig=3,\\n        ret=\\\"all\\\",\\n        distance=972,\\n    )\\n\\n    detected_2, detected_in_band_df, Es = run_search(\\n        bursts,\\n        fstart=974 + 200,\\n        fend=974 + 2 * 200,\\n        fluence_threshold=th / np.sqrt(800 / 200),\\n        in_band_sig=3,\\n        ret=\\\"all\\\",\\n        distance=972,\\n    )\\n\\n    detected_3, detected_in_band_df, Es = run_search(\\n        bursts,\\n        fstart=974 + 400,\\n        fend=974 + 600,\\n        fluence_threshold=th / np.sqrt(800 / 200),\\n        in_band_sig=3,\\n        ret=\\\"all\\\",\\n        distance=972,\\n    )\\n\\n    detected_4, detected_in_band_df, Es = run_search(\\n        bursts,\\n        fstart=974 + 600,\\n        fend=974 + 800,\\n        fluence_threshold=th / np.sqrt(800 / 200),\\n        in_band_sig=3,\\n        ret=\\\"all\\\",\\n        distance=972,\\n    )\\n\\n    all_index = (\\n        list(detected_1.index)\\n        + list(detected_2.index)\\n        + list(detected_3.index)\\n        + list(detected_4.index)\\n        + list(detected.index)\\n    )\\n    len_all = len(set(all_index))\\n    len_full_band = len(detected.index)\\n    print(th, 100 * (len_all - len_full_band)/len_full_band)\";\n",
       "                var nbb_formatted_code = \"for th in thresholds:\\n    detected, detected_in_band_df, Es = run_search(\\n        bursts,\\n        fstart=974,\\n        fend=1774,\\n        fluence_threshold=th,\\n        in_band_sig=3,\\n        ret=\\\"all\\\",\\n        distance=972,\\n    )\\n\\n    detected_1, detected_in_band_df, Es = run_search(\\n        bursts,\\n        fstart=974,\\n        fend=974 + 200,\\n        fluence_threshold=th / np.sqrt(800 / 200),\\n        in_band_sig=3,\\n        ret=\\\"all\\\",\\n        distance=972,\\n    )\\n\\n    detected_2, detected_in_band_df, Es = run_search(\\n        bursts,\\n        fstart=974 + 200,\\n        fend=974 + 2 * 200,\\n        fluence_threshold=th / np.sqrt(800 / 200),\\n        in_band_sig=3,\\n        ret=\\\"all\\\",\\n        distance=972,\\n    )\\n\\n    detected_3, detected_in_band_df, Es = run_search(\\n        bursts,\\n        fstart=974 + 400,\\n        fend=974 + 600,\\n        fluence_threshold=th / np.sqrt(800 / 200),\\n        in_band_sig=3,\\n        ret=\\\"all\\\",\\n        distance=972,\\n    )\\n\\n    detected_4, detected_in_band_df, Es = run_search(\\n        bursts,\\n        fstart=974 + 600,\\n        fend=974 + 800,\\n        fluence_threshold=th / np.sqrt(800 / 200),\\n        in_band_sig=3,\\n        ret=\\\"all\\\",\\n        distance=972,\\n    )\\n\\n    all_index = (\\n        list(detected_1.index)\\n        + list(detected_2.index)\\n        + list(detected_3.index)\\n        + list(detected_4.index)\\n        + list(detected.index)\\n    )\\n    len_all = len(set(all_index))\\n    len_full_band = len(detected.index)\\n    print(th, 100 * (len_all - len_full_band) / len_full_band)\";\n",
       "                var nbb_cells = Jupyter.notebook.get_cells();\n",
       "                for (var i = 0; i < nbb_cells.length; ++i) {\n",
       "                    if (nbb_cells[i].input_prompt_number == nbb_cell_id) {\n",
       "                        if (nbb_cells[i].get_text() == nbb_unformatted_code) {\n",
       "                             nbb_cells[i].set_text(nbb_formatted_code);\n",
       "                        }\n",
       "                        break;\n",
       "                    }\n",
       "                }\n",
       "            }, 500);\n",
       "            "
      ],
      "text/plain": [
       "<IPython.core.display.Javascript object>"
      ]
     },
     "metadata": {},
     "output_type": "display_data"
    }
   ],
   "source": [
    "for th in thresholds:\n",
    "    detected, detected_in_band_df, Es = run_search(\n",
    "        bursts,\n",
    "        fstart=974,\n",
    "        fend=1774,\n",
    "        fluence_threshold=th,\n",
    "        in_band_sig=3,\n",
    "        ret=\"all\",\n",
    "        distance=972,\n",
    "    )\n",
    "\n",
    "    detected_1, detected_in_band_df, Es = run_search(\n",
    "        bursts,\n",
    "        fstart=974,\n",
    "        fend=974 + 200,\n",
    "        fluence_threshold=th / np.sqrt(800 / 200),\n",
    "        in_band_sig=3,\n",
    "        ret=\"all\",\n",
    "        distance=972,\n",
    "    )\n",
    "\n",
    "    detected_2, detected_in_band_df, Es = run_search(\n",
    "        bursts,\n",
    "        fstart=974 + 200,\n",
    "        fend=974 + 2 * 200,\n",
    "        fluence_threshold=th / np.sqrt(800 / 200),\n",
    "        in_band_sig=3,\n",
    "        ret=\"all\",\n",
    "        distance=972,\n",
    "    )\n",
    "\n",
    "    detected_3, detected_in_band_df, Es = run_search(\n",
    "        bursts,\n",
    "        fstart=974 + 400,\n",
    "        fend=974 + 600,\n",
    "        fluence_threshold=th / np.sqrt(800 / 200),\n",
    "        in_band_sig=3,\n",
    "        ret=\"all\",\n",
    "        distance=972,\n",
    "    )\n",
    "\n",
    "    detected_4, detected_in_band_df, Es = run_search(\n",
    "        bursts,\n",
    "        fstart=974 + 600,\n",
    "        fend=974 + 800,\n",
    "        fluence_threshold=th / np.sqrt(800 / 200),\n",
    "        in_band_sig=3,\n",
    "        ret=\"all\",\n",
    "        distance=972,\n",
    "    )\n",
    "\n",
    "    all_index = (\n",
    "        list(detected_1.index)\n",
    "        + list(detected_2.index)\n",
    "        + list(detected_3.index)\n",
    "        + list(detected_4.index)\n",
    "        + list(detected.index)\n",
    "    )\n",
    "    len_all = len(set(all_index))\n",
    "    len_full_band = len(detected.index)\n",
    "    print(th, 100 * (len_all - len_full_band) / len_full_band)"
   ]
  }
 ],
 "metadata": {
  "kernelspec": {
   "display_name": "Python 3",
   "language": "python",
   "name": "python3"
  },
  "language_info": {
   "codemirror_mode": {
    "name": "ipython",
    "version": 3
   },
   "file_extension": ".py",
   "mimetype": "text/x-python",
   "name": "python",
   "nbconvert_exporter": "python",
   "pygments_lexer": "ipython3",
   "version": "3.6.8"
  }
 },
 "nbformat": 4,
 "nbformat_minor": 2
}
